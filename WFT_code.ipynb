{
 "cells": [
  {
   "attachments": {},
   "cell_type": "markdown",
   "metadata": {},
   "source": [
    "## 필요한 모듈 import"
   ]
  },
  {
   "cell_type": "code",
   "execution_count": 1,
   "metadata": {},
   "outputs": [],
   "source": [
    "import pandas as pd\n",
    "import pickle\n",
    "import numpy as np\n",
    "from tqdm import tqdm\n",
    "import time\n",
    "import warnings\n",
    "warnings.filterwarnings('ignore')\n",
    "\n",
    "from sklearn.preprocessing import LabelEncoder\n",
    "from sklearn.preprocessing import OneHotEncoder\n",
    "\n",
    "from sklearn.model_selection import train_test_split\n",
    "from sklearn.model_selection import GridSearchCV\n",
    "from scipy.stats import uniform, randint\n",
    "from sklearn.model_selection import RandomizedSearchCV\n",
    "from hyperopt import hp\n",
    "from sklearn.model_selection import KFold\n",
    "from hyperopt import fmin, tpe, Trials\n",
    "\n",
    "from sklearn.metrics import accuracy_score\n",
    "from sklearn.metrics import roc_auc_score\n",
    "\n",
    "from sklearn.ensemble import RandomForestClassifier\n",
    "import xgboost as xgb\n",
    "from sklearn.ensemble import GradientBoostingClassifier\n",
    "from lightgbm import LGBMClassifier\n"
   ]
  },
  {
   "attachments": {},
   "cell_type": "markdown",
   "metadata": {},
   "source": [
    "## 2015 ~ 2020년도 데이터 가져오기"
   ]
  },
  {
   "cell_type": "code",
   "execution_count": 2,
   "metadata": {},
   "outputs": [
    {
     "data": {
      "text/plain": [
       "['C:/workspace/p-tag/KBO_prediction_data/baseball_2015.csv',\n",
       " 'C:/workspace/p-tag/KBO_prediction_data/baseball_2016.csv',\n",
       " 'C:/workspace/p-tag/KBO_prediction_data/baseball_2017.csv',\n",
       " 'C:/workspace/p-tag/KBO_prediction_data/baseball_2018.csv',\n",
       " 'C:/workspace/p-tag/KBO_prediction_data/baseball_2019.csv',\n",
       " 'C:/workspace/p-tag/KBO_prediction_data/baseball_2020.csv']"
      ]
     },
     "execution_count": 2,
     "metadata": {},
     "output_type": "execute_result"
    }
   ],
   "source": [
    "filenames=['C:/workspace/p-tag/KBO_prediction_data/baseball_' + str(x) + '.csv' for x in list(range(2015,2021))]\n",
    "filenames"
   ]
  },
  {
   "cell_type": "code",
   "execution_count": 3,
   "metadata": {},
   "outputs": [
    {
     "name": "stderr",
     "output_type": "stream",
     "text": [
      "100%|██████████| 6/6 [00:00<00:00, 30.15it/s]\n"
     ]
    }
   ],
   "source": [
    "data = pd.DataFrame()\n",
    "for filename in tqdm(filenames):\n",
    "    temp = pd.read_csv(filename)\n",
    "    data = pd.concat([data,temp])"
   ]
  },
  {
   "cell_type": "code",
   "execution_count": 38,
   "metadata": {},
   "outputs": [],
   "source": [
    "baseball_data = data.copy()"
   ]
  },
  {
   "attachments": {},
   "cell_type": "markdown",
   "metadata": {},
   "source": [
    "## 전처리 함수"
   ]
  },
  {
   "cell_type": "code",
   "execution_count": 15,
   "metadata": {},
   "outputs": [],
   "source": [
    "def preprocessing(df):\n",
    "    # 무승부 제거\n",
    "    df = df[df['win']!=0.5]\n",
    "\n",
    "    # 넥센 팀 명이 키움으로 변경됨\n",
    "    df['T_ID'] = df['T_ID'].replace('NE','WO')\n",
    "    df['VS_T_ID'] = df['VS_T_ID'].replace('NE','WO')\n",
    "\n",
    "    # 팀 명 라벨링\n",
    "    le = LabelEncoder()\n",
    "    le.fit(df['T_ID'])\n",
    "    df.loc[:,'T_ID'] = le.transform(df['T_ID'])\n",
    "    df.loc[:,'VS_T_ID'] = le.transform(df['VS_T_ID'])\n",
    "    \n",
    "    return df\n"
   ]
  },
  {
   "attachments": {},
   "cell_type": "markdown",
   "metadata": {},
   "source": [
    "## 모델을 저장하는 함수"
   ]
  },
  {
   "cell_type": "code",
   "execution_count": 18,
   "metadata": {},
   "outputs": [],
   "source": [
    "def model_save(model,path,model_name):\n",
    "    pickle.dump(model, open(path + model_name + '.pkl','wb'))"
   ]
  },
  {
   "attachments": {},
   "cell_type": "markdown",
   "metadata": {},
   "source": [
    "## 모델을 불러온 후 정확도를 측정하는 함수"
   ]
  },
  {
   "cell_type": "code",
   "execution_count": 20,
   "metadata": {},
   "outputs": [],
   "source": [
    "def model_load(path, model_name, test_x, test_y):\n",
    "    model_df = pickle.load(open(path + model_name + '.pkl', 'rb'))\n",
    "    pred = model_df.predict(test_x)\n",
    "    accuracy = accuracy_score(test_y, pred)\n",
    "\n",
    "    return accuracy"
   ]
  },
  {
   "attachments": {},
   "cell_type": "markdown",
   "metadata": {},
   "source": [
    "## 정확도를 측정하는 함수"
   ]
  },
  {
   "cell_type": "code",
   "execution_count": 23,
   "metadata": {},
   "outputs": [],
   "source": [
    "def accuracy(model, test_x, test_y):\n",
    "    pred = model.predict(test_x)\n",
    "    accuracy = accuracy_score(test_y, pred)\n",
    "\n",
    "    return accuracy"
   ]
  },
  {
   "attachments": {},
   "cell_type": "markdown",
   "metadata": {},
   "source": [
    "## 일정 비율로 데이터를 나누는 함수"
   ]
  },
  {
   "cell_type": "code",
   "execution_count": 31,
   "metadata": {},
   "outputs": [],
   "source": [
    "def train_test_data(data, target, size):\n",
    "    train_x, test_x, train_y, test_y = train_test_split(data, target, test_size = size, random_state = 42)\n",
    "\n",
    "    return train_x, test_x, train_y, test_y"
   ]
  },
  {
   "attachments": {},
   "cell_type": "markdown",
   "metadata": {},
   "source": [
    "## RandomForest 모델 함수"
   ]
  },
  {
   "cell_type": "code",
   "execution_count": 32,
   "metadata": {},
   "outputs": [],
   "source": [
    "def RandomForest_model(data_df, feature_list, target):\n",
    "    # Train_data, Train_target 나누기\n",
    "    train_data = data_df[feature_list] # feature_list : ['RUN','AB','PA','OOO','T_ID','VS_T_ID','OBP']\n",
    "    train_target = data_df[target] # target : 'win'\n",
    "\n",
    "    # train, test data 나누기\n",
    "    train_x, test_x, train_y, test_y = train_test_data(train_data, train_target, 0.2)\n",
    "\n",
    "    # GridSearchCV\n",
    "    params={\n",
    "    'max_depth':[4,8,12,16,20,24],\n",
    "    'min_samples_leaf':[6,9,12,15,18,21],\n",
    "    'min_samples_split':[8,16,24,32,40,48,56]\n",
    "}\n",
    "\n",
    "    rfc = RandomForestClassifier(n_estimators=50,random_state=42,n_jobs=-1)\n",
    "    grid_cv=GridSearchCV(rfc, param_grid=params,cv=5,n_jobs=-1)\n",
    "    grid_cv.fit(train_x,train_y)\n",
    "\n",
    "    rfc_model = grid_cv.best_estimator_\n",
    "\n",
    "    return rfc_model\n"
   ]
  },
  {
   "attachments": {},
   "cell_type": "markdown",
   "metadata": {},
   "source": [
    "## 함수를 이용하여 RandomForest 돌리기"
   ]
  },
  {
   "cell_type": "code",
   "execution_count": 39,
   "metadata": {},
   "outputs": [
    {
     "data": {
      "text/html": [
       "<div>\n",
       "<style scoped>\n",
       "    .dataframe tbody tr th:only-of-type {\n",
       "        vertical-align: middle;\n",
       "    }\n",
       "\n",
       "    .dataframe tbody tr th {\n",
       "        vertical-align: top;\n",
       "    }\n",
       "\n",
       "    .dataframe thead th {\n",
       "        text-align: right;\n",
       "    }\n",
       "</style>\n",
       "<table border=\"1\" class=\"dataframe\">\n",
       "  <thead>\n",
       "    <tr style=\"text-align: right;\">\n",
       "      <th></th>\n",
       "      <th>G_ID</th>\n",
       "      <th>GDAY_DS</th>\n",
       "      <th>T_ID</th>\n",
       "      <th>VS_T_ID</th>\n",
       "      <th>HEADER_NO</th>\n",
       "      <th>TB_SC</th>\n",
       "      <th>PA</th>\n",
       "      <th>AB</th>\n",
       "      <th>RBI</th>\n",
       "      <th>RUN</th>\n",
       "      <th>...</th>\n",
       "      <th>HP</th>\n",
       "      <th>KK</th>\n",
       "      <th>GD</th>\n",
       "      <th>LOB</th>\n",
       "      <th>P_HRA_RT</th>\n",
       "      <th>P_AB_CN</th>\n",
       "      <th>P_HIT_CN</th>\n",
       "      <th>OBP</th>\n",
       "      <th>OOO</th>\n",
       "      <th>win</th>\n",
       "    </tr>\n",
       "  </thead>\n",
       "  <tbody>\n",
       "    <tr>\n",
       "      <th>0</th>\n",
       "      <td>20150328HHNE0</td>\n",
       "      <td>20150328</td>\n",
       "      <td>0</td>\n",
       "      <td>6</td>\n",
       "      <td>0</td>\n",
       "      <td>T</td>\n",
       "      <td>54.0</td>\n",
       "      <td>42.0</td>\n",
       "      <td>4.0</td>\n",
       "      <td>4.0</td>\n",
       "      <td>...</td>\n",
       "      <td>1.0</td>\n",
       "      <td>7.0</td>\n",
       "      <td>0.0</td>\n",
       "      <td>24.0</td>\n",
       "      <td>0.133333</td>\n",
       "      <td>15</td>\n",
       "      <td>2</td>\n",
       "      <td>0.352941</td>\n",
       "      <td>0.238095</td>\n",
       "      <td>0.0</td>\n",
       "    </tr>\n",
       "    <tr>\n",
       "      <th>1</th>\n",
       "      <td>20150328HHNE0</td>\n",
       "      <td>20150328</td>\n",
       "      <td>6</td>\n",
       "      <td>0</td>\n",
       "      <td>0</td>\n",
       "      <td>B</td>\n",
       "      <td>46.0</td>\n",
       "      <td>40.0</td>\n",
       "      <td>5.0</td>\n",
       "      <td>5.0</td>\n",
       "      <td>...</td>\n",
       "      <td>0.0</td>\n",
       "      <td>7.0</td>\n",
       "      <td>1.0</td>\n",
       "      <td>18.0</td>\n",
       "      <td>0.090909</td>\n",
       "      <td>11</td>\n",
       "      <td>1</td>\n",
       "      <td>0.304348</td>\n",
       "      <td>0.200000</td>\n",
       "      <td>1.0</td>\n",
       "    </tr>\n",
       "    <tr>\n",
       "      <th>2</th>\n",
       "      <td>20150328KTLT0</td>\n",
       "      <td>20150328</td>\n",
       "      <td>2</td>\n",
       "      <td>4</td>\n",
       "      <td>0</td>\n",
       "      <td>T</td>\n",
       "      <td>46.0</td>\n",
       "      <td>35.0</td>\n",
       "      <td>8.0</td>\n",
       "      <td>9.0</td>\n",
       "      <td>...</td>\n",
       "      <td>1.0</td>\n",
       "      <td>8.0</td>\n",
       "      <td>1.0</td>\n",
       "      <td>23.0</td>\n",
       "      <td>0.285714</td>\n",
       "      <td>14</td>\n",
       "      <td>4</td>\n",
       "      <td>0.511111</td>\n",
       "      <td>0.400000</td>\n",
       "      <td>0.0</td>\n",
       "    </tr>\n",
       "    <tr>\n",
       "      <th>3</th>\n",
       "      <td>20150328KTLT0</td>\n",
       "      <td>20150328</td>\n",
       "      <td>4</td>\n",
       "      <td>2</td>\n",
       "      <td>0</td>\n",
       "      <td>B</td>\n",
       "      <td>42.0</td>\n",
       "      <td>37.0</td>\n",
       "      <td>12.0</td>\n",
       "      <td>12.0</td>\n",
       "      <td>...</td>\n",
       "      <td>1.0</td>\n",
       "      <td>8.0</td>\n",
       "      <td>1.0</td>\n",
       "      <td>17.0</td>\n",
       "      <td>0.437500</td>\n",
       "      <td>16</td>\n",
       "      <td>7</td>\n",
       "      <td>0.439024</td>\n",
       "      <td>0.378378</td>\n",
       "      <td>1.0</td>\n",
       "    </tr>\n",
       "    <tr>\n",
       "      <th>4</th>\n",
       "      <td>20150328LGHT0</td>\n",
       "      <td>20150328</td>\n",
       "      <td>3</td>\n",
       "      <td>1</td>\n",
       "      <td>0</td>\n",
       "      <td>T</td>\n",
       "      <td>34.0</td>\n",
       "      <td>29.0</td>\n",
       "      <td>1.0</td>\n",
       "      <td>1.0</td>\n",
       "      <td>...</td>\n",
       "      <td>0.0</td>\n",
       "      <td>6.0</td>\n",
       "      <td>2.0</td>\n",
       "      <td>17.0</td>\n",
       "      <td>0.200000</td>\n",
       "      <td>10</td>\n",
       "      <td>2</td>\n",
       "      <td>0.333333</td>\n",
       "      <td>0.241379</td>\n",
       "      <td>0.0</td>\n",
       "    </tr>\n",
       "  </tbody>\n",
       "</table>\n",
       "<p>5 rows × 28 columns</p>\n",
       "</div>"
      ],
      "text/plain": [
       "            G_ID   GDAY_DS  T_ID  VS_T_ID  HEADER_NO TB_SC    PA    AB   RBI  \\\n",
       "0  20150328HHNE0  20150328     0        6          0     T  54.0  42.0   4.0   \n",
       "1  20150328HHNE0  20150328     6        0          0     B  46.0  40.0   5.0   \n",
       "2  20150328KTLT0  20150328     2        4          0     T  46.0  35.0   8.0   \n",
       "3  20150328KTLT0  20150328     4        2          0     B  42.0  37.0  12.0   \n",
       "4  20150328LGHT0  20150328     3        1          0     T  34.0  29.0   1.0   \n",
       "\n",
       "    RUN  ...   HP   KK   GD   LOB  P_HRA_RT  P_AB_CN  P_HIT_CN       OBP  \\\n",
       "0   4.0  ...  1.0  7.0  0.0  24.0  0.133333       15         2  0.352941   \n",
       "1   5.0  ...  0.0  7.0  1.0  18.0  0.090909       11         1  0.304348   \n",
       "2   9.0  ...  1.0  8.0  1.0  23.0  0.285714       14         4  0.511111   \n",
       "3  12.0  ...  1.0  8.0  1.0  17.0  0.437500       16         7  0.439024   \n",
       "4   1.0  ...  0.0  6.0  2.0  17.0  0.200000       10         2  0.333333   \n",
       "\n",
       "        OOO  win  \n",
       "0  0.238095  0.0  \n",
       "1  0.200000  1.0  \n",
       "2  0.400000  0.0  \n",
       "3  0.378378  1.0  \n",
       "4  0.241379  0.0  \n",
       "\n",
       "[5 rows x 28 columns]"
      ]
     },
     "execution_count": 39,
     "metadata": {},
     "output_type": "execute_result"
    }
   ],
   "source": [
    "baseball_data = preprocessing(baseball_data)\n",
    "baseball_data.head()"
   ]
  },
  {
   "cell_type": "code",
   "execution_count": 40,
   "metadata": {},
   "outputs": [
    {
     "name": "stdout",
     "output_type": "stream",
     "text": [
      "예측 정확도: 0.7982\n"
     ]
    }
   ],
   "source": [
    "feature_list = ['RUN','AB','PA','OOO','T_ID','VS_T_ID','OBP']\n",
    "data_df = baseball_data\n",
    "target = 'win'\n",
    "\n",
    "# 모델 만들기\n",
    "test_model = RandomForest_model(data_df, feature_list, target)\n",
    "\n",
    "# train, test 데이터로 나누기\n",
    "train_x, test_x, train_y, test_y = train_test_data(data_df[feature_list], data_df[target], 0.2)\n",
    "\n",
    "# 정확도 계산\n",
    "pred = test_model.predict(test_x)\n",
    "print('예측 정확도: {0:.4f}'.format(accuracy_score(test_y, pred)))"
   ]
  },
  {
   "attachments": {},
   "cell_type": "markdown",
   "metadata": {},
   "source": [
    "## XGBoost 모델 함수"
   ]
  },
  {
   "cell_type": "code",
   "execution_count": null,
   "metadata": {},
   "outputs": [],
   "source": [
    "def XGBoost_model(data_df, feature_list, target):\n",
    "    # Train_data, Train_target 나누기\n",
    "    train_data = data_df[feature_list] # feature_list : ['RUN','AB','PA','OOO','T_ID','VS_T_ID','OBP']\n",
    "    train_target = data_df[target] # target : 'win'\n",
    "\n",
    "    # train, test data 나누기\n",
    "    train_x, test_x, train_y, test_y = train_test_data(train_data, train_target, 0.2)\n",
    "\n",
    "    # train, val data 나누기\n",
    "    X_tr, X_val, y_tr, y_val = train_test_data(train_data, train_target, 0.1)\n",
    "\n",
    "    dtr = xgb.DMatrix(data=X_tr, label=y_tr)\n",
    "    dval = xgb.DMatrix(data=X_val, label=y_val)\n",
    "    dtest = xgb.DMatrix(data=test_x , label=test_y)\n",
    "\n",
    "    params = { 'max_depth':3,\n",
    "          'eta': 0.05,\n",
    "          'objective':'binary:logistic',\n",
    "          'eval_metric':'logloss'\n",
    "         }\n",
    "    num_rounds = 400\n",
    "\n",
    "    eval_list = [(dtr,'train'),(dval,'eval')]\n",
    "\n",
    "    xgb_model = xgb.train(params = params , dtrain=dtr , num_boost_round=num_rounds ,\\\n",
    "                      early_stopping_rounds=50, evals=eval_list )\n",
    "    \n",
    "    return xgb_model\n"
   ]
  }
 ],
 "metadata": {
  "kernelspec": {
   "display_name": "base",
   "language": "python",
   "name": "python3"
  },
  "language_info": {
   "codemirror_mode": {
    "name": "ipython",
    "version": 3
   },
   "file_extension": ".py",
   "mimetype": "text/x-python",
   "name": "python",
   "nbconvert_exporter": "python",
   "pygments_lexer": "ipython3",
   "version": "3.9.13"
  },
  "orig_nbformat": 4
 },
 "nbformat": 4,
 "nbformat_minor": 2
}
