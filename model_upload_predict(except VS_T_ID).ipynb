{
 "cells": [
  {
   "cell_type": "code",
   "execution_count": 106,
   "metadata": {},
   "outputs": [],
   "source": [
    "import pandas as pd\n",
    "import pickle\n",
    "import numpy as np\n",
    "from tqdm import tqdm\n",
    "import warnings\n",
    "warnings.filterwarnings('ignore')\n",
    "\n",
    "from sklearn.preprocessing import LabelEncoder\n",
    "from sklearn.model_selection import train_test_split\n",
    "\n",
    "from sklearn.metrics import accuracy_score\n",
    "\n",
    "import xgboost as xgb"
   ]
  },
  {
   "attachments": {},
   "cell_type": "markdown",
   "metadata": {},
   "source": [
    "### 2015 ~ 2020년도 데이터 가져오기"
   ]
  },
  {
   "cell_type": "code",
   "execution_count": 107,
   "metadata": {},
   "outputs": [
    {
     "data": {
      "text/plain": [
       "['C:/workspace/p-tag/KBO_prediction_data/baseball_2015.csv',\n",
       " 'C:/workspace/p-tag/KBO_prediction_data/baseball_2016.csv',\n",
       " 'C:/workspace/p-tag/KBO_prediction_data/baseball_2017.csv',\n",
       " 'C:/workspace/p-tag/KBO_prediction_data/baseball_2018.csv',\n",
       " 'C:/workspace/p-tag/KBO_prediction_data/baseball_2019.csv',\n",
       " 'C:/workspace/p-tag/KBO_prediction_data/baseball_2020.csv']"
      ]
     },
     "execution_count": 107,
     "metadata": {},
     "output_type": "execute_result"
    }
   ],
   "source": [
    "filenames=['C:/workspace/p-tag/KBO_prediction_data/baseball_' + str(x) + '.csv' for x in list(range(2015,2021))]\n",
    "filenames"
   ]
  },
  {
   "cell_type": "code",
   "execution_count": 108,
   "metadata": {},
   "outputs": [
    {
     "name": "stderr",
     "output_type": "stream",
     "text": [
      "100%|██████████| 6/6 [00:00<00:00, 84.61it/s]\n"
     ]
    }
   ],
   "source": [
    "data = pd.DataFrame()\n",
    "for filename in tqdm(filenames):\n",
    "    temp = pd.read_csv(filename)\n",
    "    data = pd.concat([data,temp])"
   ]
  },
  {
   "cell_type": "code",
   "execution_count": 109,
   "metadata": {},
   "outputs": [],
   "source": [
    "baseball_data = data.copy()"
   ]
  },
  {
   "attachments": {},
   "cell_type": "markdown",
   "metadata": {},
   "source": [
    "### 전처리"
   ]
  },
  {
   "cell_type": "code",
   "execution_count": 110,
   "metadata": {},
   "outputs": [],
   "source": [
    "def preprocessing(df):\n",
    "    # 무승부 제거\n",
    "    df = df[df['win']!=0.5]\n",
    "\n",
    "    # 넥센 팀 명이 키움으로 변경됨\n",
    "    df['T_ID'] = df['T_ID'].replace('NE','WO')\n",
    "    df['VS_T_ID'] = df['VS_T_ID'].replace('NE','WO')\n",
    "\n",
    "    # 팀 명 라벨링\n",
    "    le = LabelEncoder()\n",
    "    le.fit(df['T_ID'])\n",
    "    df.loc[:,'T_ID'] = le.transform(df['T_ID'])\n",
    "    df.loc[:,'VS_T_ID'] = le.transform(df['VS_T_ID'])\n",
    "    \n",
    "    return df"
   ]
  },
  {
   "cell_type": "code",
   "execution_count": 111,
   "metadata": {},
   "outputs": [],
   "source": [
    "baseball_data = preprocessing(baseball_data)"
   ]
  },
  {
   "cell_type": "code",
   "execution_count": 112,
   "metadata": {},
   "outputs": [],
   "source": [
    "train_data = baseball_data[['RUN','AB','PA','OOO','T_ID','VS_T_ID','OBP']]\n",
    "train_target = baseball_data['win']\n",
    "\n",
    "train_x, test_x, train_y, test_y = train_test_split(train_data, train_target, test_size = 0.2, random_state = 42)"
   ]
  },
  {
   "attachments": {},
   "cell_type": "markdown",
   "metadata": {},
   "source": [
    "### RandomForest pred probs 구하기"
   ]
  },
  {
   "cell_type": "code",
   "execution_count": 113,
   "metadata": {},
   "outputs": [],
   "source": [
    "pickled_RandomForest_model = pickle.load(open('C:/workspace/p-tag/model/random_forest.pkl', 'rb'))"
   ]
  },
  {
   "cell_type": "code",
   "execution_count": 114,
   "metadata": {},
   "outputs": [
    {
     "name": "stdout",
     "output_type": "stream",
     "text": [
      "예측 정확도: 0.8018\n"
     ]
    }
   ],
   "source": [
    "pred = pickled_RandomForest_model.predict(test_x)\n",
    "print('예측 정확도: {0:.4f}'.format(accuracy_score(test_y, pred)))"
   ]
  },
  {
   "cell_type": "code",
   "execution_count": 115,
   "metadata": {},
   "outputs": [
    {
     "data": {
      "text/plain": [
       "array([[1.        , 0.        ],\n",
       "       [0.59209104, 0.40790896],\n",
       "       [0.62880041, 0.37119959],\n",
       "       ...,\n",
       "       [0.24332827, 0.75667173],\n",
       "       [0.02423878, 0.97576122],\n",
       "       [0.87817573, 0.12182427]])"
      ]
     },
     "execution_count": 115,
     "metadata": {},
     "output_type": "execute_result"
    }
   ],
   "source": [
    "pred_probs_RandomForest = pickled_RandomForest_model.predict_proba(test_x)\n",
    "pred_probs_RandomForest"
   ]
  },
  {
   "attachments": {},
   "cell_type": "markdown",
   "metadata": {},
   "source": [
    "### XGBoost pred probs 구하기"
   ]
  },
  {
   "cell_type": "code",
   "execution_count": 116,
   "metadata": {},
   "outputs": [],
   "source": [
    "pickled_XGBoost_model = pickle.load(open('C:/workspace/p-tag/model/xgboost.pkl', 'rb'))"
   ]
  },
  {
   "cell_type": "code",
   "execution_count": 117,
   "metadata": {},
   "outputs": [
    {
     "data": {
      "text/html": [
       "<div>\n",
       "<style scoped>\n",
       "    .dataframe tbody tr th:only-of-type {\n",
       "        vertical-align: middle;\n",
       "    }\n",
       "\n",
       "    .dataframe tbody tr th {\n",
       "        vertical-align: top;\n",
       "    }\n",
       "\n",
       "    .dataframe thead th {\n",
       "        text-align: right;\n",
       "    }\n",
       "</style>\n",
       "<table border=\"1\" class=\"dataframe\">\n",
       "  <thead>\n",
       "    <tr style=\"text-align: right;\">\n",
       "      <th></th>\n",
       "      <th>RUN</th>\n",
       "      <th>AB</th>\n",
       "      <th>PA</th>\n",
       "      <th>OOO</th>\n",
       "      <th>T_ID</th>\n",
       "      <th>VS_T_ID</th>\n",
       "      <th>OBP</th>\n",
       "    </tr>\n",
       "  </thead>\n",
       "  <tbody>\n",
       "    <tr>\n",
       "      <th>297</th>\n",
       "      <td>2.0</td>\n",
       "      <td>34.0</td>\n",
       "      <td>36.0</td>\n",
       "      <td>0.205882</td>\n",
       "      <td>2</td>\n",
       "      <td>1</td>\n",
       "      <td>0.250000</td>\n",
       "    </tr>\n",
       "    <tr>\n",
       "      <th>278</th>\n",
       "      <td>4.0</td>\n",
       "      <td>30.0</td>\n",
       "      <td>38.0</td>\n",
       "      <td>0.200000</td>\n",
       "      <td>3</td>\n",
       "      <td>9</td>\n",
       "      <td>0.297297</td>\n",
       "    </tr>\n",
       "    <tr>\n",
       "      <th>1158</th>\n",
       "      <td>4.0</td>\n",
       "      <td>37.0</td>\n",
       "      <td>41.0</td>\n",
       "      <td>0.243243</td>\n",
       "      <td>3</td>\n",
       "      <td>4</td>\n",
       "      <td>0.317073</td>\n",
       "    </tr>\n",
       "    <tr>\n",
       "      <th>1090</th>\n",
       "      <td>6.0</td>\n",
       "      <td>41.0</td>\n",
       "      <td>43.0</td>\n",
       "      <td>0.365854</td>\n",
       "      <td>5</td>\n",
       "      <td>8</td>\n",
       "      <td>0.395349</td>\n",
       "    </tr>\n",
       "    <tr>\n",
       "      <th>862</th>\n",
       "      <td>8.0</td>\n",
       "      <td>37.0</td>\n",
       "      <td>44.0</td>\n",
       "      <td>0.378378</td>\n",
       "      <td>4</td>\n",
       "      <td>1</td>\n",
       "      <td>0.452381</td>\n",
       "    </tr>\n",
       "    <tr>\n",
       "      <th>...</th>\n",
       "      <td>...</td>\n",
       "      <td>...</td>\n",
       "      <td>...</td>\n",
       "      <td>...</td>\n",
       "      <td>...</td>\n",
       "      <td>...</td>\n",
       "      <td>...</td>\n",
       "    </tr>\n",
       "    <tr>\n",
       "      <th>1461</th>\n",
       "      <td>0.0</td>\n",
       "      <td>28.0</td>\n",
       "      <td>32.0</td>\n",
       "      <td>0.142857</td>\n",
       "      <td>9</td>\n",
       "      <td>6</td>\n",
       "      <td>0.250000</td>\n",
       "    </tr>\n",
       "    <tr>\n",
       "      <th>388</th>\n",
       "      <td>5.0</td>\n",
       "      <td>36.0</td>\n",
       "      <td>41.0</td>\n",
       "      <td>0.277778</td>\n",
       "      <td>8</td>\n",
       "      <td>7</td>\n",
       "      <td>0.325000</td>\n",
       "    </tr>\n",
       "    <tr>\n",
       "      <th>608</th>\n",
       "      <td>6.0</td>\n",
       "      <td>35.0</td>\n",
       "      <td>38.0</td>\n",
       "      <td>0.342857</td>\n",
       "      <td>1</td>\n",
       "      <td>4</td>\n",
       "      <td>0.394737</td>\n",
       "    </tr>\n",
       "    <tr>\n",
       "      <th>415</th>\n",
       "      <td>9.0</td>\n",
       "      <td>37.0</td>\n",
       "      <td>41.0</td>\n",
       "      <td>0.432432</td>\n",
       "      <td>2</td>\n",
       "      <td>9</td>\n",
       "      <td>0.450000</td>\n",
       "    </tr>\n",
       "    <tr>\n",
       "      <th>1035</th>\n",
       "      <td>2.0</td>\n",
       "      <td>33.0</td>\n",
       "      <td>38.0</td>\n",
       "      <td>0.242424</td>\n",
       "      <td>3</td>\n",
       "      <td>9</td>\n",
       "      <td>0.289474</td>\n",
       "    </tr>\n",
       "  </tbody>\n",
       "</table>\n",
       "<p>1705 rows × 7 columns</p>\n",
       "</div>"
      ],
      "text/plain": [
       "      RUN    AB    PA       OOO  T_ID  VS_T_ID       OBP\n",
       "297   2.0  34.0  36.0  0.205882     2        1  0.250000\n",
       "278   4.0  30.0  38.0  0.200000     3        9  0.297297\n",
       "1158  4.0  37.0  41.0  0.243243     3        4  0.317073\n",
       "1090  6.0  41.0  43.0  0.365854     5        8  0.395349\n",
       "862   8.0  37.0  44.0  0.378378     4        1  0.452381\n",
       "...   ...   ...   ...       ...   ...      ...       ...\n",
       "1461  0.0  28.0  32.0  0.142857     9        6  0.250000\n",
       "388   5.0  36.0  41.0  0.277778     8        7  0.325000\n",
       "608   6.0  35.0  38.0  0.342857     1        4  0.394737\n",
       "415   9.0  37.0  41.0  0.432432     2        9  0.450000\n",
       "1035  2.0  33.0  38.0  0.242424     3        9  0.289474\n",
       "\n",
       "[1705 rows x 7 columns]"
      ]
     },
     "execution_count": 117,
     "metadata": {},
     "output_type": "execute_result"
    }
   ],
   "source": [
    "test_x"
   ]
  },
  {
   "cell_type": "code",
   "execution_count": 118,
   "metadata": {},
   "outputs": [
    {
     "data": {
      "text/plain": [
       "0.8240469208211144"
      ]
     },
     "execution_count": 118,
     "metadata": {},
     "output_type": "execute_result"
    }
   ],
   "source": [
    "dtest = xgb.DMatrix(data=test_x , label=test_y)\n",
    "\n",
    "percent = pickled_XGBoost_model.predict(dtest)\n",
    "preds = [ 1 if x > 0.5 else 0 for x in percent ]\n",
    "accuracy_score(test_y , preds)"
   ]
  },
  {
   "cell_type": "code",
   "execution_count": 119,
   "metadata": {},
   "outputs": [
    {
     "data": {
      "text/plain": [
       "array([[0.97413635, 0.02586364],\n",
       "       [0.5953207 , 0.4046793 ],\n",
       "       [0.72930217, 0.27069783],\n",
       "       ...,\n",
       "       [0.26483792, 0.7351621 ],\n",
       "       [0.01077127, 0.9892287 ],\n",
       "       [0.9025383 , 0.09746172]], dtype=float32)"
      ]
     },
     "execution_count": 119,
     "metadata": {},
     "output_type": "execute_result"
    }
   ],
   "source": [
    "pred_probs_xgboost = np.array([arr for arr in zip(1-percent,percent)])\n",
    "pred_probs_xgboost"
   ]
  },
  {
   "attachments": {},
   "cell_type": "markdown",
   "metadata": {},
   "source": [
    "### GBM pred probs 구하기"
   ]
  },
  {
   "cell_type": "code",
   "execution_count": 120,
   "metadata": {},
   "outputs": [
    {
     "name": "stdout",
     "output_type": "stream",
     "text": [
      "예측 정확도: 0.8012\n"
     ]
    }
   ],
   "source": [
    "pickled_GBM_model = pickle.load(open('C:/workspace/p-tag/model/GBM.pkl', 'rb'))\n",
    "\n",
    "pred = pickled_GBM_model.predict(test_x)\n",
    "print('예측 정확도: {0:.4f}'.format(accuracy_score(test_y, pred)))"
   ]
  },
  {
   "cell_type": "code",
   "execution_count": 121,
   "metadata": {},
   "outputs": [
    {
     "data": {
      "text/plain": [
       "array([[0.94994869, 0.05005131],\n",
       "       [0.53519716, 0.46480284],\n",
       "       [0.75279493, 0.24720507],\n",
       "       ...,\n",
       "       [0.26636396, 0.73363604],\n",
       "       [0.02154523, 0.97845477],\n",
       "       [0.8692936 , 0.1307064 ]])"
      ]
     },
     "execution_count": 121,
     "metadata": {},
     "output_type": "execute_result"
    }
   ],
   "source": [
    "pred_probs_GBM = pickled_GBM_model.predict_proba(test_x)\n",
    "pred_probs_GBM"
   ]
  },
  {
   "attachments": {},
   "cell_type": "markdown",
   "metadata": {},
   "source": [
    "### LightGBM pred probs 구하기"
   ]
  },
  {
   "cell_type": "code",
   "execution_count": 122,
   "metadata": {},
   "outputs": [],
   "source": [
    "pickled_LightGBM_model = pickle.load(open('C:/workspace/p-tag/model/LightGBM.pkl', 'rb'))"
   ]
  },
  {
   "cell_type": "code",
   "execution_count": 123,
   "metadata": {},
   "outputs": [
    {
     "name": "stdout",
     "output_type": "stream",
     "text": [
      "예측 정확도: 0.8158\n"
     ]
    }
   ],
   "source": [
    "pred = pickled_LightGBM_model.predict(test_x)\n",
    "print('예측 정확도: {0:.4f}'.format(accuracy_score(test_y, pred)))"
   ]
  },
  {
   "cell_type": "code",
   "execution_count": 124,
   "metadata": {},
   "outputs": [
    {
     "data": {
      "text/plain": [
       "array([[0.94526932, 0.05473068],\n",
       "       [0.65863036, 0.34136964],\n",
       "       [0.76076573, 0.23923427],\n",
       "       ...,\n",
       "       [0.27434672, 0.72565328],\n",
       "       [0.03806091, 0.96193909],\n",
       "       [0.89002575, 0.10997425]])"
      ]
     },
     "execution_count": 124,
     "metadata": {},
     "output_type": "execute_result"
    }
   ],
   "source": [
    "pred_probs_LightGBM = pickled_LightGBM_model.predict_proba(test_x)\n",
    "pred_probs_LightGBM"
   ]
  },
  {
   "attachments": {},
   "cell_type": "markdown",
   "metadata": {},
   "source": [
    "## 각 모델들의 pred probs를 합산하여 승부를 예측한 결과의 정확도 구하기"
   ]
  },
  {
   "cell_type": "code",
   "execution_count": 125,
   "metadata": {},
   "outputs": [],
   "source": [
    "total_pred_probs = (pred_probs_RandomForest + pred_probs_xgboost + pred_probs_GBM + pred_probs_LightGBM)/4\n"
   ]
  },
  {
   "cell_type": "code",
   "execution_count": 126,
   "metadata": {},
   "outputs": [
    {
     "name": "stdout",
     "output_type": "stream",
     "text": [
      "예측 정확도: 0.8117\n"
     ]
    }
   ],
   "source": [
    "preds = [1 if total_pred_probs[index][0] < total_pred_probs[index][1] else 0 for index in range(len(total_pred_probs))]\n",
    "\n",
    "print('예측 정확도: {0:.4f}'.format(accuracy_score(test_y, preds)))"
   ]
  },
  {
   "attachments": {},
   "cell_type": "markdown",
   "metadata": {},
   "source": [
    "## 정리\n",
    "- test set 데이터에 대한 각 모델들의 승부 예측 정확도와 모델 합산 시, 승부 예측 정확도"
   ]
  },
  {
   "cell_type": "code",
   "execution_count": 127,
   "metadata": {},
   "outputs": [
    {
     "name": "stdout",
     "output_type": "stream",
     "text": [
      "예측 정확도: 0.8018\n"
     ]
    }
   ],
   "source": [
    "pred = pickled_RandomForest_model.predict(test_x)\n",
    "print('예측 정확도: {0:.4f}'.format(accuracy_score(test_y, pred)))"
   ]
  },
  {
   "cell_type": "code",
   "execution_count": 128,
   "metadata": {},
   "outputs": [
    {
     "name": "stdout",
     "output_type": "stream",
     "text": [
      "예측 정확도: 0.8012\n"
     ]
    }
   ],
   "source": [
    "pred = pickled_GBM_model.predict(test_x)\n",
    "print('예측 정확도: {0:.4f}'.format(accuracy_score(test_y, pred)))"
   ]
  },
  {
   "cell_type": "code",
   "execution_count": 129,
   "metadata": {},
   "outputs": [
    {
     "name": "stdout",
     "output_type": "stream",
     "text": [
      "예측 정확도: 0.8012\n"
     ]
    }
   ],
   "source": [
    "pred = pickled_GBM_model.predict(test_x)\n",
    "print('예측 정확도: {0:.4f}'.format(accuracy_score(test_y, pred)))"
   ]
  },
  {
   "cell_type": "code",
   "execution_count": 130,
   "metadata": {},
   "outputs": [
    {
     "name": "stdout",
     "output_type": "stream",
     "text": [
      "예측 정확도: 0.8158\n"
     ]
    }
   ],
   "source": [
    "pred = pickled_LightGBM_model.predict(test_x)\n",
    "print('예측 정확도: {0:.4f}'.format(accuracy_score(test_y, pred)))"
   ]
  },
  {
   "cell_type": "code",
   "execution_count": 131,
   "metadata": {},
   "outputs": [
    {
     "name": "stdout",
     "output_type": "stream",
     "text": [
      "예측 정확도: 0.8117\n"
     ]
    }
   ],
   "source": [
    "total_pred_probs = (pred_probs_RandomForest + pred_probs_xgboost + pred_probs_GBM + pred_probs_LightGBM)/4\n",
    "preds = [1 if total_pred_probs[index][0] < total_pred_probs[index][1] else 0 for index in range(len(total_pred_probs))]\n",
    "\n",
    "print('예측 정확도: {0:.4f}'.format(accuracy_score(test_y, preds)))"
   ]
  }
 ],
 "metadata": {
  "kernelspec": {
   "display_name": "base",
   "language": "python",
   "name": "python3"
  },
  "language_info": {
   "codemirror_mode": {
    "name": "ipython",
    "version": 3
   },
   "file_extension": ".py",
   "mimetype": "text/x-python",
   "name": "python",
   "nbconvert_exporter": "python",
   "pygments_lexer": "ipython3",
   "version": "3.9.13"
  },
  "orig_nbformat": 4
 },
 "nbformat": 4,
 "nbformat_minor": 2
}
