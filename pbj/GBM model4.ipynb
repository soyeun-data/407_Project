{
 "cells": [
  {
   "cell_type": "code",
   "execution_count": 1,
   "metadata": {
    "executionInfo": {
     "elapsed": 1785,
     "status": "ok",
     "timestamp": 1680495843461,
     "user": {
      "displayName": "김수한무",
      "userId": "00181544401783463434"
     },
     "user_tz": -540
    },
    "id": "Kenne2bdFdxE"
   },
   "outputs": [],
   "source": [
    "from sklearn.ensemble import GradientBoostingClassifier\n",
    "\n",
    "from sklearn.model_selection import train_test_split, GridSearchCV\n",
    "from sklearn.metrics import accuracy_score\n",
    "\n",
    "import os\n",
    "from tqdm import tqdm\n",
    "import time\n",
    "import warnings\n",
    "warnings.filterwarnings('ignore')\n",
    "\n",
    "import pandas as pd\n",
    "import numpy as np\n",
    "\n",
    "# 그래프 시각화\n",
    "import matplotlib.pyplot as plt\n",
    "import seaborn as sns\n",
    "%matplotlib inline"
   ]
  },
  {
   "cell_type": "markdown",
   "metadata": {
    "id": "7TcgiuuSGbMx"
   },
   "source": [
    "### 2015 ~ 2020년도 데이터 가져오기\n",
    "- 드라이브 마운트 필요"
   ]
  },
  {
   "cell_type": "code",
   "execution_count": null,
   "metadata": {
    "colab": {
     "base_uri": "https://localhost:8080/"
    },
    "executionInfo": {
     "elapsed": 19968,
     "status": "ok",
     "timestamp": 1680495872307,
     "user": {
      "displayName": "김수한무",
      "userId": "00181544401783463434"
     },
     "user_tz": -540
    },
    "id": "b1bkId9NGbi8",
    "outputId": "2de5aa36-abd3-400b-8bfe-fd246545db27"
   },
   "outputs": [],
   "source": [
    "# Google drive mount or 폴더 클릭 후 구글 드라이브 연결\n",
    "from google.colab import drive\n",
    "drive.mount('/content/drive')"
   ]
  },
  {
   "cell_type": "code",
   "execution_count": 2,
   "metadata": {
    "colab": {
     "base_uri": "https://localhost:8080/"
    },
    "executionInfo": {
     "elapsed": 292,
     "status": "ok",
     "timestamp": 1680495879402,
     "user": {
      "displayName": "김수한무",
      "userId": "00181544401783463434"
     },
     "user_tz": -540
    },
    "id": "U2az3iPfGinP",
    "outputId": "6eeaaad5-1962-485c-dd06-18e52cc9f1f9"
   },
   "outputs": [
    {
     "data": {
      "text/plain": [
       "['/Users/jun/Git/407_Project/KBO_prediction_data/baseball_2015.csv',\n",
       " '/Users/jun/Git/407_Project/KBO_prediction_data/baseball_2016.csv',\n",
       " '/Users/jun/Git/407_Project/KBO_prediction_data/baseball_2017.csv',\n",
       " '/Users/jun/Git/407_Project/KBO_prediction_data/baseball_2018.csv',\n",
       " '/Users/jun/Git/407_Project/KBO_prediction_data/baseball_2019.csv',\n",
       " '/Users/jun/Git/407_Project/KBO_prediction_data/baseball_2020.csv']"
      ]
     },
     "execution_count": 2,
     "metadata": {},
     "output_type": "execute_result"
    }
   ],
   "source": [
    "filenames=['/Users/jun/Git/407_Project/KBO_prediction_data/baseball_' + str(x) + '.csv' for x in list(range(2015,2021))]\n",
    "filenames"
   ]
  },
  {
   "cell_type": "code",
   "execution_count": 3,
   "metadata": {
    "colab": {
     "base_uri": "https://localhost:8080/"
    },
    "executionInfo": {
     "elapsed": 1576,
     "status": "ok",
     "timestamp": 1680495883180,
     "user": {
      "displayName": "김수한무",
      "userId": "00181544401783463434"
     },
     "user_tz": -540
    },
    "id": "lYVwu0ngGkFu",
    "outputId": "329b7e9e-10ce-4909-98be-832c81107c57"
   },
   "outputs": [
    {
     "name": "stderr",
     "output_type": "stream",
     "text": [
      "100%|██████████████████████████████████████████████████████████████████████████████████████| 6/6 [00:00<00:00, 141.76it/s]\n"
     ]
    }
   ],
   "source": [
    "data = pd.DataFrame()\n",
    "for filename in tqdm(filenames):\n",
    "    temp = pd.read_csv(filename)\n",
    "    data = pd.concat([data,temp])"
   ]
  },
  {
   "cell_type": "code",
   "execution_count": 4,
   "metadata": {
    "executionInfo": {
     "elapsed": 275,
     "status": "ok",
     "timestamp": 1680495890851,
     "user": {
      "displayName": "김수한무",
      "userId": "00181544401783463434"
     },
     "user_tz": -540
    },
    "id": "USkYAQzuGkDu"
   },
   "outputs": [],
   "source": [
    "baseball_data = data.copy()"
   ]
  },
  {
   "cell_type": "code",
   "execution_count": 5,
   "metadata": {
    "colab": {
     "base_uri": "https://localhost:8080/",
     "height": 235
    },
    "executionInfo": {
     "elapsed": 3,
     "status": "ok",
     "timestamp": 1680447031911,
     "user": {
      "displayName": "김수한무",
      "userId": "00181544401783463434"
     },
     "user_tz": -540
    },
    "id": "a8JRUSb9GkBR",
    "outputId": "4a76e2d2-52ac-4c03-b97d-0c734c3e4668"
   },
   "outputs": [
    {
     "data": {
      "text/html": [
       "<div>\n",
       "<style scoped>\n",
       "    .dataframe tbody tr th:only-of-type {\n",
       "        vertical-align: middle;\n",
       "    }\n",
       "\n",
       "    .dataframe tbody tr th {\n",
       "        vertical-align: top;\n",
       "    }\n",
       "\n",
       "    .dataframe thead th {\n",
       "        text-align: right;\n",
       "    }\n",
       "</style>\n",
       "<table border=\"1\" class=\"dataframe\">\n",
       "  <thead>\n",
       "    <tr style=\"text-align: right;\">\n",
       "      <th></th>\n",
       "      <th>G_ID</th>\n",
       "      <th>GDAY_DS</th>\n",
       "      <th>T_ID</th>\n",
       "      <th>VS_T_ID</th>\n",
       "      <th>HEADER_NO</th>\n",
       "      <th>TB_SC</th>\n",
       "      <th>PA</th>\n",
       "      <th>AB</th>\n",
       "      <th>RBI</th>\n",
       "      <th>RUN</th>\n",
       "      <th>...</th>\n",
       "      <th>HP</th>\n",
       "      <th>KK</th>\n",
       "      <th>GD</th>\n",
       "      <th>LOB</th>\n",
       "      <th>P_HRA_RT</th>\n",
       "      <th>P_AB_CN</th>\n",
       "      <th>P_HIT_CN</th>\n",
       "      <th>OBP</th>\n",
       "      <th>OOO</th>\n",
       "      <th>win</th>\n",
       "    </tr>\n",
       "  </thead>\n",
       "  <tbody>\n",
       "    <tr>\n",
       "      <th>0</th>\n",
       "      <td>20150328HHNE0</td>\n",
       "      <td>20150328</td>\n",
       "      <td>HH</td>\n",
       "      <td>NE</td>\n",
       "      <td>0</td>\n",
       "      <td>T</td>\n",
       "      <td>54.0</td>\n",
       "      <td>42.0</td>\n",
       "      <td>4.0</td>\n",
       "      <td>4.0</td>\n",
       "      <td>...</td>\n",
       "      <td>1.0</td>\n",
       "      <td>7.0</td>\n",
       "      <td>0.0</td>\n",
       "      <td>24.0</td>\n",
       "      <td>0.133333</td>\n",
       "      <td>15</td>\n",
       "      <td>2</td>\n",
       "      <td>0.352941</td>\n",
       "      <td>0.238095</td>\n",
       "      <td>0.0</td>\n",
       "    </tr>\n",
       "    <tr>\n",
       "      <th>1</th>\n",
       "      <td>20150328HHNE0</td>\n",
       "      <td>20150328</td>\n",
       "      <td>NE</td>\n",
       "      <td>HH</td>\n",
       "      <td>0</td>\n",
       "      <td>B</td>\n",
       "      <td>46.0</td>\n",
       "      <td>40.0</td>\n",
       "      <td>5.0</td>\n",
       "      <td>5.0</td>\n",
       "      <td>...</td>\n",
       "      <td>0.0</td>\n",
       "      <td>7.0</td>\n",
       "      <td>1.0</td>\n",
       "      <td>18.0</td>\n",
       "      <td>0.090909</td>\n",
       "      <td>11</td>\n",
       "      <td>1</td>\n",
       "      <td>0.304348</td>\n",
       "      <td>0.200000</td>\n",
       "      <td>1.0</td>\n",
       "    </tr>\n",
       "    <tr>\n",
       "      <th>2</th>\n",
       "      <td>20150328KTLT0</td>\n",
       "      <td>20150328</td>\n",
       "      <td>KT</td>\n",
       "      <td>LT</td>\n",
       "      <td>0</td>\n",
       "      <td>T</td>\n",
       "      <td>46.0</td>\n",
       "      <td>35.0</td>\n",
       "      <td>8.0</td>\n",
       "      <td>9.0</td>\n",
       "      <td>...</td>\n",
       "      <td>1.0</td>\n",
       "      <td>8.0</td>\n",
       "      <td>1.0</td>\n",
       "      <td>23.0</td>\n",
       "      <td>0.285714</td>\n",
       "      <td>14</td>\n",
       "      <td>4</td>\n",
       "      <td>0.511111</td>\n",
       "      <td>0.400000</td>\n",
       "      <td>0.0</td>\n",
       "    </tr>\n",
       "    <tr>\n",
       "      <th>3</th>\n",
       "      <td>20150328KTLT0</td>\n",
       "      <td>20150328</td>\n",
       "      <td>LT</td>\n",
       "      <td>KT</td>\n",
       "      <td>0</td>\n",
       "      <td>B</td>\n",
       "      <td>42.0</td>\n",
       "      <td>37.0</td>\n",
       "      <td>12.0</td>\n",
       "      <td>12.0</td>\n",
       "      <td>...</td>\n",
       "      <td>1.0</td>\n",
       "      <td>8.0</td>\n",
       "      <td>1.0</td>\n",
       "      <td>17.0</td>\n",
       "      <td>0.437500</td>\n",
       "      <td>16</td>\n",
       "      <td>7</td>\n",
       "      <td>0.439024</td>\n",
       "      <td>0.378378</td>\n",
       "      <td>1.0</td>\n",
       "    </tr>\n",
       "    <tr>\n",
       "      <th>4</th>\n",
       "      <td>20150328LGHT0</td>\n",
       "      <td>20150328</td>\n",
       "      <td>LG</td>\n",
       "      <td>HT</td>\n",
       "      <td>0</td>\n",
       "      <td>T</td>\n",
       "      <td>34.0</td>\n",
       "      <td>29.0</td>\n",
       "      <td>1.0</td>\n",
       "      <td>1.0</td>\n",
       "      <td>...</td>\n",
       "      <td>0.0</td>\n",
       "      <td>6.0</td>\n",
       "      <td>2.0</td>\n",
       "      <td>17.0</td>\n",
       "      <td>0.200000</td>\n",
       "      <td>10</td>\n",
       "      <td>2</td>\n",
       "      <td>0.333333</td>\n",
       "      <td>0.241379</td>\n",
       "      <td>0.0</td>\n",
       "    </tr>\n",
       "  </tbody>\n",
       "</table>\n",
       "<p>5 rows × 28 columns</p>\n",
       "</div>"
      ],
      "text/plain": [
       "            G_ID   GDAY_DS T_ID VS_T_ID  HEADER_NO TB_SC    PA    AB   RBI  \\\n",
       "0  20150328HHNE0  20150328   HH      NE          0     T  54.0  42.0   4.0   \n",
       "1  20150328HHNE0  20150328   NE      HH          0     B  46.0  40.0   5.0   \n",
       "2  20150328KTLT0  20150328   KT      LT          0     T  46.0  35.0   8.0   \n",
       "3  20150328KTLT0  20150328   LT      KT          0     B  42.0  37.0  12.0   \n",
       "4  20150328LGHT0  20150328   LG      HT          0     T  34.0  29.0   1.0   \n",
       "\n",
       "    RUN  ...   HP   KK   GD   LOB  P_HRA_RT  P_AB_CN  P_HIT_CN       OBP  \\\n",
       "0   4.0  ...  1.0  7.0  0.0  24.0  0.133333       15         2  0.352941   \n",
       "1   5.0  ...  0.0  7.0  1.0  18.0  0.090909       11         1  0.304348   \n",
       "2   9.0  ...  1.0  8.0  1.0  23.0  0.285714       14         4  0.511111   \n",
       "3  12.0  ...  1.0  8.0  1.0  17.0  0.437500       16         7  0.439024   \n",
       "4   1.0  ...  0.0  6.0  2.0  17.0  0.200000       10         2  0.333333   \n",
       "\n",
       "        OOO  win  \n",
       "0  0.238095  0.0  \n",
       "1  0.200000  1.0  \n",
       "2  0.400000  0.0  \n",
       "3  0.378378  1.0  \n",
       "4  0.241379  0.0  \n",
       "\n",
       "[5 rows x 28 columns]"
      ]
     },
     "execution_count": 5,
     "metadata": {},
     "output_type": "execute_result"
    }
   ],
   "source": [
    "baseball_data.head()"
   ]
  },
  {
   "cell_type": "code",
   "execution_count": 6,
   "metadata": {
    "id": "RjIxMM4gGj-6"
   },
   "outputs": [
    {
     "data": {
      "text/plain": [
       "Index(['G_ID', 'GDAY_DS', 'T_ID', 'VS_T_ID', 'HEADER_NO', 'TB_SC', 'PA', 'AB',\n",
       "       'RBI', 'RUN', 'HIT', 'H2', 'H3', 'HR', 'SB', 'CS', 'SF', 'BB', 'HP',\n",
       "       'KK', 'GD', 'LOB', 'P_HRA_RT', 'P_AB_CN', 'P_HIT_CN', 'OBP', 'OOO',\n",
       "       'win'],\n",
       "      dtype='object')"
      ]
     },
     "execution_count": 6,
     "metadata": {},
     "output_type": "execute_result"
    }
   ],
   "source": [
    "baseball_data.columns"
   ]
  },
  {
   "cell_type": "markdown",
   "metadata": {
    "id": "sfEPLi4uGpbq"
   },
   "source": [
    "### 데이터의 결측치와 데이터 형태 확인"
   ]
  },
  {
   "cell_type": "code",
   "execution_count": 7,
   "metadata": {
    "id": "jhDZ-rqaGp5K"
   },
   "outputs": [
    {
     "name": "stdout",
     "output_type": "stream",
     "text": [
      "<class 'pandas.core.frame.DataFrame'>\n",
      "Int64Index: 8656 entries, 0 to 1367\n",
      "Data columns (total 28 columns):\n",
      " #   Column     Non-Null Count  Dtype  \n",
      "---  ------     --------------  -----  \n",
      " 0   G_ID       8656 non-null   object \n",
      " 1   GDAY_DS    8656 non-null   int64  \n",
      " 2   T_ID       8656 non-null   object \n",
      " 3   VS_T_ID    8656 non-null   object \n",
      " 4   HEADER_NO  8656 non-null   int64  \n",
      " 5   TB_SC      8656 non-null   object \n",
      " 6   PA         8656 non-null   float64\n",
      " 7   AB         8656 non-null   float64\n",
      " 8   RBI        8656 non-null   float64\n",
      " 9   RUN        8656 non-null   float64\n",
      " 10  HIT        8656 non-null   float64\n",
      " 11  H2         8656 non-null   int64  \n",
      " 12  H3         8656 non-null   int64  \n",
      " 13  HR         8656 non-null   float64\n",
      " 14  SB         8656 non-null   int64  \n",
      " 15  CS         8656 non-null   int64  \n",
      " 16  SF         8656 non-null   int64  \n",
      " 17  BB         8656 non-null   float64\n",
      " 18  HP         8656 non-null   float64\n",
      " 19  KK         8656 non-null   float64\n",
      " 20  GD         8656 non-null   float64\n",
      " 21  LOB        8656 non-null   float64\n",
      " 22  P_HRA_RT   8656 non-null   float64\n",
      " 23  P_AB_CN    8656 non-null   int64  \n",
      " 24  P_HIT_CN   8656 non-null   int64  \n",
      " 25  OBP        8656 non-null   float64\n",
      " 26  OOO        8656 non-null   float64\n",
      " 27  win        8656 non-null   float64\n",
      "dtypes: float64(15), int64(9), object(4)\n",
      "memory usage: 1.9+ MB\n"
     ]
    }
   ],
   "source": [
    "baseball_data.info()"
   ]
  },
  {
   "cell_type": "code",
   "execution_count": null,
   "metadata": {
    "id": "Ggluvd3wGreW"
   },
   "outputs": [],
   "source": [
    "baseball_data.describe()"
   ]
  },
  {
   "cell_type": "markdown",
   "metadata": {
    "id": "R7Zx712LGtNN"
   },
   "source": [
    "### 날짜 데이터, HEADER_NO 삭제\n",
    "- HEADER_NO 데이터의 경우 0 값만 존재하므로 삭제"
   ]
  },
  {
   "cell_type": "code",
   "execution_count": 8,
   "metadata": {
    "colab": {
     "base_uri": "https://localhost:8080/"
    },
    "executionInfo": {
     "elapsed": 382,
     "status": "ok",
     "timestamp": 1680495911774,
     "user": {
      "displayName": "김수한무",
      "userId": "00181544401783463434"
     },
     "user_tz": -540
    },
    "id": "na5_nciHGrcO",
    "outputId": "b06096d0-41be-449d-b961-47a26cf97ec0"
   },
   "outputs": [
    {
     "name": "stdout",
     "output_type": "stream",
     "text": [
      "<class 'pandas.core.frame.DataFrame'>\n",
      "Int64Index: 8656 entries, 0 to 1367\n",
      "Data columns (total 25 columns):\n",
      " #   Column    Non-Null Count  Dtype  \n",
      "---  ------    --------------  -----  \n",
      " 0   T_ID      8656 non-null   object \n",
      " 1   VS_T_ID   8656 non-null   object \n",
      " 2   TB_SC     8656 non-null   object \n",
      " 3   PA        8656 non-null   float64\n",
      " 4   AB        8656 non-null   float64\n",
      " 5   RBI       8656 non-null   float64\n",
      " 6   RUN       8656 non-null   float64\n",
      " 7   HIT       8656 non-null   float64\n",
      " 8   H2        8656 non-null   int64  \n",
      " 9   H3        8656 non-null   int64  \n",
      " 10  HR        8656 non-null   float64\n",
      " 11  SB        8656 non-null   int64  \n",
      " 12  CS        8656 non-null   int64  \n",
      " 13  SF        8656 non-null   int64  \n",
      " 14  BB        8656 non-null   float64\n",
      " 15  HP        8656 non-null   float64\n",
      " 16  KK        8656 non-null   float64\n",
      " 17  GD        8656 non-null   float64\n",
      " 18  LOB       8656 non-null   float64\n",
      " 19  P_HRA_RT  8656 non-null   float64\n",
      " 20  P_AB_CN   8656 non-null   int64  \n",
      " 21  P_HIT_CN  8656 non-null   int64  \n",
      " 22  OBP       8656 non-null   float64\n",
      " 23  OOO       8656 non-null   float64\n",
      " 24  win       8656 non-null   float64\n",
      "dtypes: float64(15), int64(7), object(3)\n",
      "memory usage: 1.7+ MB\n"
     ]
    }
   ],
   "source": [
    "baseball_data = baseball_data.drop(['G_ID','GDAY_DS','HEADER_NO'], axis=1)\n",
    "baseball_data.info()"
   ]
  },
  {
   "cell_type": "markdown",
   "metadata": {
    "id": "0Fg2dG-uHIUK"
   },
   "source": [
    "### 무승부 제거"
   ]
  },
  {
   "cell_type": "code",
   "execution_count": 17,
   "metadata": {
    "colab": {
     "base_uri": "https://localhost:8080/"
    },
    "executionInfo": {
     "elapsed": 4,
     "status": "ok",
     "timestamp": 1680495918433,
     "user": {
      "displayName": "김수한무",
      "userId": "00181544401783463434"
     },
     "user_tz": -540
    },
    "id": "x2SQ6h3hHNe4",
    "outputId": "27e2e039-0fbc-46c4-a9be-ab6cd7d45bd4"
   },
   "outputs": [
    {
     "name": "stdout",
     "output_type": "stream",
     "text": [
      "0.0    4261\n",
      "1.0    4261\n",
      "0.5     134\n",
      "Name: win, dtype: int64\n",
      "0.0    4261\n",
      "1.0    4261\n",
      "Name: win, dtype: int64\n"
     ]
    }
   ],
   "source": [
    "print(baseball_data['win'].value_counts())\n",
    "baseball_data = baseball_data[baseball_data['win']!=0.5]\n",
    "print(baseball_data['win'].value_counts())"
   ]
  },
  {
   "cell_type": "markdown",
   "metadata": {
    "id": "QhIcV2HPGzH9"
   },
   "source": [
    "### 상관관계 정도를 그래프로 그리기"
   ]
  },
  {
   "cell_type": "code",
   "execution_count": null,
   "metadata": {
    "id": "r1EwTJeHGraA"
   },
   "outputs": [],
   "source": [
    "# baseball_data_corr['win'].sort_values(ascending=False)"
   ]
  },
  {
   "cell_type": "code",
   "execution_count": null,
   "metadata": {
    "id": "7Z1MDkQSGrXq"
   },
   "outputs": [],
   "source": [
    "# baseball_data_corr['win'].sort_values(ascending=False).plot.barh()"
   ]
  },
  {
   "cell_type": "markdown",
   "metadata": {
    "id": "pluTfXING3XI"
   },
   "source": [
    "=> corr로 상관성 분석 시, RUN, RBI, OBP, OOO, P_HIT_CN, HIT feature들이 win과 40% 이상 상관성을 가지고 있음"
   ]
  },
  {
   "cell_type": "markdown",
   "metadata": {
    "id": "CgALvcAPZkQn"
   },
   "source": [
    "### 팀명 라벨 인코딩"
   ]
  },
  {
   "cell_type": "code",
   "execution_count": 13,
   "metadata": {
    "colab": {
     "base_uri": "https://localhost:8080/",
     "height": 235
    },
    "executionInfo": {
     "elapsed": 6,
     "status": "ok",
     "timestamp": 1680495921725,
     "user": {
      "displayName": "김수한무",
      "userId": "00181544401783463434"
     },
     "user_tz": -540
    },
    "id": "QN3BmVFBGrVb",
    "outputId": "4fbeb6a0-ee31-41f1-9264-86e386463afc"
   },
   "outputs": [
    {
     "data": {
      "text/html": [
       "<div>\n",
       "<style scoped>\n",
       "    .dataframe tbody tr th:only-of-type {\n",
       "        vertical-align: middle;\n",
       "    }\n",
       "\n",
       "    .dataframe tbody tr th {\n",
       "        vertical-align: top;\n",
       "    }\n",
       "\n",
       "    .dataframe thead th {\n",
       "        text-align: right;\n",
       "    }\n",
       "</style>\n",
       "<table border=\"1\" class=\"dataframe\">\n",
       "  <thead>\n",
       "    <tr style=\"text-align: right;\">\n",
       "      <th></th>\n",
       "      <th>T_ID</th>\n",
       "      <th>VS_T_ID</th>\n",
       "      <th>TB_SC</th>\n",
       "      <th>PA</th>\n",
       "      <th>AB</th>\n",
       "      <th>RBI</th>\n",
       "      <th>RUN</th>\n",
       "      <th>HIT</th>\n",
       "      <th>H2</th>\n",
       "      <th>H3</th>\n",
       "      <th>...</th>\n",
       "      <th>HP</th>\n",
       "      <th>KK</th>\n",
       "      <th>GD</th>\n",
       "      <th>LOB</th>\n",
       "      <th>P_HRA_RT</th>\n",
       "      <th>P_AB_CN</th>\n",
       "      <th>P_HIT_CN</th>\n",
       "      <th>OBP</th>\n",
       "      <th>OOO</th>\n",
       "      <th>win</th>\n",
       "    </tr>\n",
       "  </thead>\n",
       "  <tbody>\n",
       "    <tr>\n",
       "      <th>1363</th>\n",
       "      <td>5</td>\n",
       "      <td>4</td>\n",
       "      <td>B</td>\n",
       "      <td>37.0</td>\n",
       "      <td>33.0</td>\n",
       "      <td>2.0</td>\n",
       "      <td>2.0</td>\n",
       "      <td>8.0</td>\n",
       "      <td>0</td>\n",
       "      <td>2</td>\n",
       "      <td>...</td>\n",
       "      <td>1.0</td>\n",
       "      <td>12.0</td>\n",
       "      <td>1.0</td>\n",
       "      <td>16.0</td>\n",
       "      <td>0.166667</td>\n",
       "      <td>6</td>\n",
       "      <td>1</td>\n",
       "      <td>0.324324</td>\n",
       "      <td>0.242424</td>\n",
       "      <td>0.0</td>\n",
       "    </tr>\n",
       "    <tr>\n",
       "      <th>1364</th>\n",
       "      <td>7</td>\n",
       "      <td>10</td>\n",
       "      <td>T</td>\n",
       "      <td>43.0</td>\n",
       "      <td>39.0</td>\n",
       "      <td>7.0</td>\n",
       "      <td>8.0</td>\n",
       "      <td>13.0</td>\n",
       "      <td>4</td>\n",
       "      <td>0</td>\n",
       "      <td>...</td>\n",
       "      <td>2.0</td>\n",
       "      <td>6.0</td>\n",
       "      <td>2.0</td>\n",
       "      <td>22.0</td>\n",
       "      <td>0.333333</td>\n",
       "      <td>12</td>\n",
       "      <td>4</td>\n",
       "      <td>0.395349</td>\n",
       "      <td>0.333333</td>\n",
       "      <td>1.0</td>\n",
       "    </tr>\n",
       "    <tr>\n",
       "      <th>1365</th>\n",
       "      <td>10</td>\n",
       "      <td>7</td>\n",
       "      <td>B</td>\n",
       "      <td>34.0</td>\n",
       "      <td>33.0</td>\n",
       "      <td>2.0</td>\n",
       "      <td>2.0</td>\n",
       "      <td>6.0</td>\n",
       "      <td>6</td>\n",
       "      <td>0</td>\n",
       "      <td>...</td>\n",
       "      <td>1.0</td>\n",
       "      <td>10.0</td>\n",
       "      <td>0.0</td>\n",
       "      <td>9.0</td>\n",
       "      <td>0.166667</td>\n",
       "      <td>6</td>\n",
       "      <td>1</td>\n",
       "      <td>0.205882</td>\n",
       "      <td>0.181818</td>\n",
       "      <td>0.0</td>\n",
       "    </tr>\n",
       "    <tr>\n",
       "      <th>1366</th>\n",
       "      <td>9</td>\n",
       "      <td>0</td>\n",
       "      <td>T</td>\n",
       "      <td>38.0</td>\n",
       "      <td>33.0</td>\n",
       "      <td>5.0</td>\n",
       "      <td>5.0</td>\n",
       "      <td>7.0</td>\n",
       "      <td>2</td>\n",
       "      <td>0</td>\n",
       "      <td>...</td>\n",
       "      <td>0.0</td>\n",
       "      <td>6.0</td>\n",
       "      <td>0.0</td>\n",
       "      <td>16.0</td>\n",
       "      <td>0.272727</td>\n",
       "      <td>11</td>\n",
       "      <td>3</td>\n",
       "      <td>0.297297</td>\n",
       "      <td>0.212121</td>\n",
       "      <td>1.0</td>\n",
       "    </tr>\n",
       "    <tr>\n",
       "      <th>1367</th>\n",
       "      <td>0</td>\n",
       "      <td>9</td>\n",
       "      <td>B</td>\n",
       "      <td>44.0</td>\n",
       "      <td>39.0</td>\n",
       "      <td>4.0</td>\n",
       "      <td>4.0</td>\n",
       "      <td>12.0</td>\n",
       "      <td>0</td>\n",
       "      <td>0</td>\n",
       "      <td>...</td>\n",
       "      <td>0.0</td>\n",
       "      <td>8.0</td>\n",
       "      <td>0.0</td>\n",
       "      <td>25.0</td>\n",
       "      <td>0.166667</td>\n",
       "      <td>12</td>\n",
       "      <td>2</td>\n",
       "      <td>0.386364</td>\n",
       "      <td>0.307692</td>\n",
       "      <td>0.0</td>\n",
       "    </tr>\n",
       "  </tbody>\n",
       "</table>\n",
       "<p>5 rows × 25 columns</p>\n",
       "</div>"
      ],
      "text/plain": [
       "      T_ID  VS_T_ID TB_SC    PA    AB  RBI  RUN   HIT  H2  H3  ...   HP    KK  \\\n",
       "1363     5        4     B  37.0  33.0  2.0  2.0   8.0   0   2  ...  1.0  12.0   \n",
       "1364     7       10     T  43.0  39.0  7.0  8.0  13.0   4   0  ...  2.0   6.0   \n",
       "1365    10        7     B  34.0  33.0  2.0  2.0   6.0   6   0  ...  1.0  10.0   \n",
       "1366     9        0     T  38.0  33.0  5.0  5.0   7.0   2   0  ...  0.0   6.0   \n",
       "1367     0        9     B  44.0  39.0  4.0  4.0  12.0   0   0  ...  0.0   8.0   \n",
       "\n",
       "       GD   LOB  P_HRA_RT  P_AB_CN  P_HIT_CN       OBP       OOO  win  \n",
       "1363  1.0  16.0  0.166667        6         1  0.324324  0.242424  0.0  \n",
       "1364  2.0  22.0  0.333333       12         4  0.395349  0.333333  1.0  \n",
       "1365  0.0   9.0  0.166667        6         1  0.205882  0.181818  0.0  \n",
       "1366  0.0  16.0  0.272727       11         3  0.297297  0.212121  1.0  \n",
       "1367  0.0  25.0  0.166667       12         2  0.386364  0.307692  0.0  \n",
       "\n",
       "[5 rows x 25 columns]"
      ]
     },
     "execution_count": 13,
     "metadata": {},
     "output_type": "execute_result"
    }
   ],
   "source": [
    "from sklearn.preprocessing import LabelEncoder\n",
    "\n",
    "le = LabelEncoder()\n",
    "le.fit(baseball_data['T_ID']) # 각 카테고리별로 라벨을 만들어주고 \n",
    "baseball_data.loc[:,'T_ID'] = le.transform(baseball_data['T_ID']) # 생성한 라벨로 문자열 형태의 T_ID를 대체\n",
    "# loc는 특정 행이나 열을 조회하는 기능을 하는데, 먼저 열에 대해 fit을 사용하고 transform을 사용해 구조를 변형시켜준다...?\n",
    "baseball_data.loc[:,'VS_T_ID'] = le.transform(baseball_data['VS_T_ID'])\n",
    "baseball_data.tail()"
   ]
  },
  {
   "cell_type": "markdown",
   "metadata": {
    "id": "gGOHiUQQZ1t4"
   },
   "source": [
    "- train_x, train_y : 훈련 데이터\n",
    "- test_x, test_y : 테스트 데이터"
   ]
  },
  {
   "cell_type": "code",
   "execution_count": 28,
   "metadata": {},
   "outputs": [],
   "source": [
    "train_data = baseball_data[['RUN','OBP','OOO','AB','PA','T_ID','VS_T_ID']]\n",
    "train_target = baseball_data['win']"
   ]
  },
  {
   "cell_type": "code",
   "execution_count": 29,
   "metadata": {
    "colab": {
     "base_uri": "https://localhost:8080/"
    },
    "executionInfo": {
     "elapsed": 4,
     "status": "ok",
     "timestamp": 1680495926707,
     "user": {
      "displayName": "김수한무",
      "userId": "00181544401783463434"
     },
     "user_tz": -540
    },
    "id": "6Q8l-QN7aDxb",
    "outputId": "4d377462-3f7f-400d-d950-a476fd640194"
   },
   "outputs": [
    {
     "name": "stdout",
     "output_type": "stream",
     "text": [
      "(6817, 7) (1705, 7) (6817,) (1705,)\n"
     ]
    }
   ],
   "source": [
    "from sklearn.model_selection import train_test_split\n",
    "\n",
    "train_x, test_x, train_y, test_y = train_test_split(train_data, train_target, test_size = 0.2, random_state = 42) # 학습데이터와 평가데이터의 비율을 8:2 로 분할| \n",
    "print(train_x.shape, test_x.shape, train_y.shape, test_y.shape) # 데이터 개수 확인"
   ]
  },
  {
   "cell_type": "markdown",
   "metadata": {
    "id": "VKjH3dKL8Yek"
   },
   "source": [
    "## GBM(Gradient Boosting Machine) 적용"
   ]
  },
  {
   "cell_type": "code",
   "execution_count": 30,
   "metadata": {
    "colab": {
     "base_uri": "https://localhost:8080/"
    },
    "executionInfo": {
     "elapsed": 823,
     "status": "ok",
     "timestamp": 1680495935900,
     "user": {
      "displayName": "김수한무",
      "userId": "00181544401783463434"
     },
     "user_tz": -540
    },
    "id": "E-99I4USbVno",
    "outputId": "6252c6fd-a57f-4a09-be6d-8692c1a2445b"
   },
   "outputs": [
    {
     "name": "stdout",
     "output_type": "stream",
     "text": [
      "GBM 정확도: 0.7982\n",
      "GBM 수행 시간: 0.5 초\n"
     ]
    }
   ],
   "source": [
    "# GBM 수행 시간 측정\n",
    "start_time = time.time()\n",
    "\n",
    "# 모델 설정\n",
    "gb_clf = GradientBoostingClassifier(random_state = 0)\n",
    "gb_clf.fit(train_x, train_y)\n",
    "\n",
    "# GBM 학습 및 예측 성능 평가\n",
    "gb_pred = gb_clf.predict(test_x)\n",
    "gb_accuracy = accuracy_score(test_y, gb_pred)\n",
    "\n",
    "print('GBM 정확도: {0:.4f}'.format(gb_accuracy))\n",
    "print('GBM 수행 시간: {0:.1f} 초'.format(time.time() - start_time))\n",
    "\n",
    "# GBM 정확도: 0.7971\n",
    "# GBM 수행 시간: 0.6 초"
   ]
  },
  {
   "cell_type": "markdown",
   "metadata": {
    "id": "eTWRATMfdle5"
   },
   "source": [
    "### **6) Feature importance 시각화**\n",
    "\n",
    "<br>\n",
    "\n",
    "변수(feature)들이 모델의 분류 예측에 각각 얼마만큼의 영향을 끼쳤는지를 확인해보고자 합니다. "
   ]
  },
  {
   "cell_type": "code",
   "execution_count": 32,
   "metadata": {
    "colab": {
     "base_uri": "https://localhost:8080/",
     "height": 545
    },
    "executionInfo": {
     "elapsed": 511,
     "status": "ok",
     "timestamp": 1680447338094,
     "user": {
      "displayName": "김수한무",
      "userId": "00181544401783463434"
     },
     "user_tz": -540
    },
    "id": "MLR754Kmdl0Z",
    "outputId": "af9bce68-53ec-492b-9ef0-f64c39030102"
   },
   "outputs": [
    {
     "data": {
      "image/png": "[encoded data removed]",
      "text/plain": [
       "<Figure size 800x600 with 1 Axes>"
      ]
     },
     "metadata": {},
     "output_type": "display_data"
    }
   ],
   "source": [
    "# feature_importances_ 속성을 이용해 변수 중요도 시각화하기\n",
    "ftr_importances_values = gb_clf.feature_importances_\n",
    "ftr_importances = pd.Series(ftr_importances_values, index=train_x.columns)\n",
    "ftr_top5 = ftr_importances.sort_values(ascending=False)[:5]\n",
    "\n",
    "plt.figure(figsize=(8,6))\n",
    "plt.title('Feature importances Top 8')\n",
    "sns.barplot(x = ftr_top15, y = ftr_top15.index)\n",
    "plt.show()"
   ]
  },
  {
   "cell_type": "markdown",
   "metadata": {
    "id": "W-famDV-d70X"
   },
   "source": [
    "### **7) 모델 최적화 - GridSearchCV를 이용한 하이퍼 파라미터 튜닝**"
   ]
  },
  {
   "cell_type": "markdown",
   "metadata": {
    "id": "2DH4rNDud7rG"
   },
   "source": [
    "기본 하이퍼 파라미터만으로도 95%가 넘는 매우 높은 분류 예측 정확도를 보이는데요. \n",
    "\n",
    "일반적으로 GBM이 랜덤 포레스트보다 높은 예측 성능을 보인다고 합니다.\n",
    "\n",
    "그러나 데이터셋 사이즈가 커질수록 랜덤 포레스트에 비해 수행 시간이 오래 걸리고, 하이퍼 파라미터 튜닝 노력도 더 필요합니다. \n",
    "\n",
    "<br>\n",
    "\n",
    "GridSearchCV는 머신러닝 모델의 성능 향상을 위해 쓰이는 기법중 하나입니다. \n",
    "\n",
    "사용자가 모델의 하이퍼 파라미터의 값을 리스트로 입력하면 값에 대한 경우의 수마다 예측 성능을 측정 평가하여 비교하면서 최적의 하이퍼 파라미터 값을 찾는 과정을 진행합니다.\n",
    "\n",
    "GridSearchCV를 이용해 모델의 성능을 높이기 위한 최적의 파라미터를 찾고자 합니다."
   ]
  },
  {
   "cell_type": "code",
   "execution_count": 33,
   "metadata": {
    "colab": {
     "base_uri": "https://localhost:8080/"
    },
    "executionInfo": {
     "elapsed": 416597,
     "status": "ok",
     "timestamp": 1680447943370,
     "user": {
      "displayName": "김수한무",
      "userId": "00181544401783463434"
     },
     "user_tz": -540
    },
    "id": "sKxle9L1do4v",
    "outputId": "d5a36ae8-6470-4e5b-d981-1b1380558159"
   },
   "outputs": [
    {
     "name": "stdout",
     "output_type": "stream",
     "text": [
      "최적의 파라미터 : {'learning_rate': 0.05, 'max_depth': 6, 'min_samples_leaf': 6, 'min_samples_split': 16, 'n_estimators': 100}\n",
      "최고의 예측 정확도 :0.8102\n",
      "GridSearchCV 수행 시간: 218.6 초\n"
     ]
    }
   ],
   "source": [
    "# GridSearchCV 수행 시간 측정\n",
    "start_time = time.time()\n",
    "\n",
    "params = {\n",
    "    'n_estimators': [100, 300, 500], \n",
    "    'max_depth': [6, 10],\n",
    "    'min_samples_leaf': [6, 8, 12],\n",
    "    'min_samples_split': [8, 16],\n",
    "    'learning_rate': [0.05, 0.1]\n",
    "}\n",
    "\n",
    "grid_cv = GridSearchCV(gb_clf, param_grid = params, n_jobs=-1)\n",
    "grid_cv.fit(train_x, train_y)\n",
    "best_gs_gbm = grid_cv.best_estimator_\n",
    "\n",
    "print('최적의 파라미터 :',grid_cv.best_params_)\n",
    "print('최고의 예측 정확도 :{0:.4f}'.format(grid_cv.best_score_))\n",
    "print('GridSearchCV 수행 시간: {0:.1f} 초'.format(time.time() - start_time))"
   ]
  },
  {
   "cell_type": "markdown",
   "metadata": {},
   "source": [
    "### GridSearch로 찾은 Best_estimator"
   ]
  },
  {
   "cell_type": "markdown",
   "metadata": {
    "id": "GTCWCwmCepDK"
   },
   "source": [
    "위에서 실행한 GridSearchCV를 바탕으로 파라미터를 조정한 새로운 모델(gb_clf2)을 만들고 앞서 만든 모델과 비교해보겠습니다."
   ]
  },
  {
   "cell_type": "code",
   "execution_count": 34,
   "metadata": {},
   "outputs": [
    {
     "name": "stdout",
     "output_type": "stream",
     "text": [
      "하이퍼 파라미터 조정하기 전 GBM 정확도: 0.7982\n",
      "하이퍼 파라미터 조정한 후 GBM 정확도: 0.7971\n",
      "하이퍼 파라미터 조정한 GBM 수행 시간: 0.9 초\n"
     ]
    }
   ],
   "source": [
    "# GBM 수행 시간 측정\n",
    "start_time = time.time()\n",
    "\n",
    "# 하이퍼 파라미터 조정한 모델 best_gs_gbm\n",
    "best_gs_gbm.fit(train_x, train_y)\n",
    "\n",
    "# 모델 학습 및 예측 성능 평가\n",
    "gb_pred2 = best_gs_gbm.predict(test_x)\n",
    "gb_accuracy2 = accuracy_score(test_y, gb_pred2)\n",
    "\n",
    "print('하이퍼 파라미터 조정하기 전 GBM 정확도: {0:.4f}'.format(gb_accuracy))\n",
    "print('하이퍼 파라미터 조정한 후 GBM 정확도: {0:.4f}'.format(gb_accuracy2))\n",
    "print('하이퍼 파라미터 조정한 GBM 수행 시간: {0:.1f} 초'.format(time.time() - start_time))"
   ]
  },
  {
   "cell_type": "markdown",
   "metadata": {
    "id": "kqpO6Qi88ktB"
   },
   "source": [
    "### 랜덤서치를 통한 하이퍼파라미터 최적화"
   ]
  },
  {
   "cell_type": "code",
   "execution_count": 35,
   "metadata": {
    "colab": {
     "base_uri": "https://localhost:8080/"
    },
    "executionInfo": {
     "elapsed": 504424,
     "status": "ok",
     "timestamp": 1680450826955,
     "user": {
      "displayName": "김수한무",
      "userId": "00181544401783463434"
     },
     "user_tz": -540
    },
    "id": "ML4mTaBjlptt",
    "outputId": "f332b029-74cd-40ab-8042-d04ae3da6fe1"
   },
   "outputs": [
    {
     "name": "stdout",
     "output_type": "stream",
     "text": [
      "최적의 파라미터 : {'learning_rate': 0.1215715162699858, 'max_depth': 2, 'min_samples_leaf': 18, 'min_samples_split': 11, 'n_estimators': 149}\n",
      "최고의 예측 정확도 :0.8127\n",
      "RandomSearchCV 수행 시간: 419.1 초\n"
     ]
    }
   ],
   "source": [
    "from scipy.stats import uniform, randint\n",
    "from sklearn.model_selection import RandomizedSearchCV\n",
    "\n",
    "# RandomizedSearchCV 수행 시간 측정\n",
    "start_time = time.time()\n",
    "\n",
    "params = {\n",
    "    'n_estimators': randint(100, 500),\n",
    "    'max_depth': randint(1, 20),\n",
    "    'min_samples_leaf': randint(2, 20),\n",
    "    'min_samples_split': randint(2, 20),\n",
    "    'learning_rate': uniform(0.001, 0.2)\n",
    "}\n",
    "\n",
    "random_cv = RandomizedSearchCV(gb_clf, params, n_iter=100, n_jobs=-1)\n",
    "random_cv.fit(train_x, train_y)\n",
    "best_rs_gbm = random_cv.best_estimator_\n",
    "\n",
    "print('최적의 파라미터 :',random_cv.best_params_)\n",
    "print('최고의 예측 정확도 :{0:.4f}'.format(random_cv.best_score_))\n",
    "print('RandomSearchCV 수행 시간: {0:.1f} 초'.format(time.time() - start_time))"
   ]
  },
  {
   "cell_type": "markdown",
   "metadata": {
    "id": "A56Kpo_qr4ai"
   },
   "source": [
    "위에서 실행한 RandomSearchCV를 바탕으로 파라미터를 조정한 새로운 모델(gb_clf3)을 만들고 앞서 만든 모델과 비교해보겠습니다."
   ]
  },
  {
   "cell_type": "code",
   "execution_count": 36,
   "metadata": {
    "colab": {
     "base_uri": "https://localhost:8080/"
    },
    "executionInfo": {
     "elapsed": 2061,
     "status": "ok",
     "timestamp": 1680451215621,
     "user": {
      "displayName": "김수한무",
      "userId": "00181544401783463434"
     },
     "user_tz": -540
    },
    "id": "Lhm7uBjggVN6",
    "outputId": "fb00f70f-7eb6-41a0-e190-0355010d2fdc"
   },
   "outputs": [
    {
     "name": "stdout",
     "output_type": "stream",
     "text": [
      "하이퍼 파라미터 조정하기 전 GBM 정확도: 0.7982\n",
      "하이퍼 파라미터 GridSearch로 조정한 후 GBM 정확도: 0.7971\n",
      "하이퍼 파라미터 RandomSearch로 조정한 후 GBM 정확도: 0.8041\n",
      "하이퍼 파라미터 조정한 GBM 수행 시간: 0.5 초\n"
     ]
    }
   ],
   "source": [
    "# GBM 수행 시간 측정\n",
    "start_time = time.time()\n",
    "\n",
    "# 하이퍼 파라미터 조정한 모델 gb_clf3\n",
    "best_rs_gbm.fit(train_x, train_y)\n",
    "\n",
    "# 모델 학습 및 예측 성능 평가\n",
    "gb_pred3 = best_rs_gbm.predict(test_x)\n",
    "gb_accuracy3 = accuracy_score(test_y, gb_pred3)\n",
    "\n",
    "print('하이퍼 파라미터 조정하기 전 GBM 정확도: {0:.4f}'.format(gb_accuracy))\n",
    "print('하이퍼 파라미터 GridSearch로 조정한 후 GBM 정확도: {0:.4f}'.format(gb_accuracy2))\n",
    "print('하이퍼 파라미터 RandomSearch로 조정한 후 GBM 정확도: {0:.4f}'.format(gb_accuracy3))\n",
    "print('하이퍼 파라미터 조정한 GBM 수행 시간: {0:.1f} 초'.format(time.time() - start_time))"
   ]
  },
  {
   "cell_type": "code",
   "execution_count": 37,
   "metadata": {},
   "outputs": [],
   "source": [
    "pred_probs_normal = gb_clf.predict_proba(test_x)\n",
    "pred_probs_GridSearch = best_gs_gbm.predict_proba(test_x)\n",
    "pred_probs_RandomSearch = best_rs_gbm.predict_proba(test_x)"
   ]
  }
 ],
 "metadata": {
  "colab": {
   "authorship_tag": "ABX9TyO0kkkSIGry69kIshUkaMHp",
   "provenance": []
  },
  "gpuClass": "standard",
  "kernelspec": {
   "display_name": "Python 3 (ipykernel)",
   "language": "python",
   "name": "python3"
  },
  "language_info": {
   "codemirror_mode": {
    "name": "ipython",
    "version": 3
   },
   "file_extension": ".py",
   "mimetype": "text/x-python",
   "name": "python",
   "nbconvert_exporter": "python",
   "pygments_lexer": "ipython3",
   "version": "3.9.13"
  }
 },
 "nbformat": 4,
 "nbformat_minor": 1
}
