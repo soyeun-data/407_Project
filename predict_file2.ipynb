{
 "cells": [
  {
   "cell_type": "code",
   "execution_count": 15,
   "metadata": {},
   "outputs": [],
   "source": [
    "import pandas as pd\n",
    "import pickle\n",
    "import numpy as np\n",
    "from tqdm import tqdm\n",
    "import warnings\n",
    "warnings.filterwarnings('ignore')\n",
    "\n",
    "import xgboost as xgb"
   ]
  },
  {
   "cell_type": "code",
   "execution_count": 16,
   "metadata": {},
   "outputs": [],
   "source": [
    "baseball_data = pd.read_csv('C:/workspace/p-tag/god_father/baseball_2023.csv')"
   ]
  },
  {
   "cell_type": "code",
   "execution_count": 17,
   "metadata": {},
   "outputs": [
    {
     "data": {
      "text/html": [
       "<div>\n",
       "<style scoped>\n",
       "    .dataframe tbody tr th:only-of-type {\n",
       "        vertical-align: middle;\n",
       "    }\n",
       "\n",
       "    .dataframe tbody tr th {\n",
       "        vertical-align: top;\n",
       "    }\n",
       "\n",
       "    .dataframe thead th {\n",
       "        text-align: right;\n",
       "    }\n",
       "</style>\n",
       "<table border=\"1\" class=\"dataframe\">\n",
       "  <thead>\n",
       "    <tr style=\"text-align: right;\">\n",
       "      <th></th>\n",
       "      <th>T_ID</th>\n",
       "      <th>VS_T_ID</th>\n",
       "      <th>PA</th>\n",
       "      <th>AB</th>\n",
       "      <th>RUN</th>\n",
       "      <th>OBP</th>\n",
       "      <th>OOO</th>\n",
       "      <th>win</th>\n",
       "    </tr>\n",
       "  </thead>\n",
       "  <tbody>\n",
       "    <tr>\n",
       "      <th>0</th>\n",
       "      <td>0</td>\n",
       "      <td>8</td>\n",
       "      <td>81</td>\n",
       "      <td>78</td>\n",
       "      <td>8</td>\n",
       "      <td>0.284</td>\n",
       "      <td>0.256</td>\n",
       "      <td>0</td>\n",
       "    </tr>\n",
       "    <tr>\n",
       "      <th>1</th>\n",
       "      <td>8</td>\n",
       "      <td>0</td>\n",
       "      <td>74</td>\n",
       "      <td>63</td>\n",
       "      <td>8</td>\n",
       "      <td>0.356</td>\n",
       "      <td>0.270</td>\n",
       "      <td>1</td>\n",
       "    </tr>\n",
       "    <tr>\n",
       "      <th>2</th>\n",
       "      <td>3</td>\n",
       "      <td>9</td>\n",
       "      <td>94</td>\n",
       "      <td>81</td>\n",
       "      <td>16</td>\n",
       "      <td>0.409</td>\n",
       "      <td>0.333</td>\n",
       "      <td>1</td>\n",
       "    </tr>\n",
       "    <tr>\n",
       "      <th>3</th>\n",
       "      <td>9</td>\n",
       "      <td>3</td>\n",
       "      <td>85</td>\n",
       "      <td>78</td>\n",
       "      <td>10</td>\n",
       "      <td>0.365</td>\n",
       "      <td>0.308</td>\n",
       "      <td>0</td>\n",
       "    </tr>\n",
       "    <tr>\n",
       "      <th>4</th>\n",
       "      <td>5</td>\n",
       "      <td>6</td>\n",
       "      <td>81</td>\n",
       "      <td>76</td>\n",
       "      <td>14</td>\n",
       "      <td>0.363</td>\n",
       "      <td>0.342</td>\n",
       "      <td>0</td>\n",
       "    </tr>\n",
       "    <tr>\n",
       "      <th>5</th>\n",
       "      <td>6</td>\n",
       "      <td>5</td>\n",
       "      <td>83</td>\n",
       "      <td>70</td>\n",
       "      <td>12</td>\n",
       "      <td>0.346</td>\n",
       "      <td>0.257</td>\n",
       "      <td>1</td>\n",
       "    </tr>\n",
       "    <tr>\n",
       "      <th>6</th>\n",
       "      <td>4</td>\n",
       "      <td>7</td>\n",
       "      <td>92</td>\n",
       "      <td>78</td>\n",
       "      <td>12</td>\n",
       "      <td>0.344</td>\n",
       "      <td>0.244</td>\n",
       "      <td>0</td>\n",
       "    </tr>\n",
       "    <tr>\n",
       "      <th>7</th>\n",
       "      <td>7</td>\n",
       "      <td>4</td>\n",
       "      <td>77</td>\n",
       "      <td>63</td>\n",
       "      <td>9</td>\n",
       "      <td>0.342</td>\n",
       "      <td>0.206</td>\n",
       "      <td>1</td>\n",
       "    </tr>\n",
       "  </tbody>\n",
       "</table>\n",
       "</div>"
      ],
      "text/plain": [
       "   T_ID  VS_T_ID  PA  AB  RUN    OBP    OOO  win\n",
       "0     0        8  81  78    8  0.284  0.256    0\n",
       "1     8        0  74  63    8  0.356  0.270    1\n",
       "2     3        9  94  81   16  0.409  0.333    1\n",
       "3     9        3  85  78   10  0.365  0.308    0\n",
       "4     5        6  81  76   14  0.363  0.342    0\n",
       "5     6        5  83  70   12  0.346  0.257    1\n",
       "6     4        7  92  78   12  0.344  0.244    0\n",
       "7     7        4  77  63    9  0.342  0.206    1"
      ]
     },
     "execution_count": 17,
     "metadata": {},
     "output_type": "execute_result"
    }
   ],
   "source": [
    "baseball_data"
   ]
  },
  {
   "cell_type": "code",
   "execution_count": 18,
   "metadata": {},
   "outputs": [
    {
     "data": {
      "text/html": [
       "<div>\n",
       "<style scoped>\n",
       "    .dataframe tbody tr th:only-of-type {\n",
       "        vertical-align: middle;\n",
       "    }\n",
       "\n",
       "    .dataframe tbody tr th {\n",
       "        vertical-align: top;\n",
       "    }\n",
       "\n",
       "    .dataframe thead th {\n",
       "        text-align: right;\n",
       "    }\n",
       "</style>\n",
       "<table border=\"1\" class=\"dataframe\">\n",
       "  <thead>\n",
       "    <tr style=\"text-align: right;\">\n",
       "      <th></th>\n",
       "      <th>T_ID</th>\n",
       "      <th>VS_T_ID</th>\n",
       "      <th>PA</th>\n",
       "      <th>AB</th>\n",
       "      <th>RUN</th>\n",
       "      <th>OBP</th>\n",
       "      <th>OOO</th>\n",
       "      <th>win</th>\n",
       "    </tr>\n",
       "  </thead>\n",
       "  <tbody>\n",
       "    <tr>\n",
       "      <th>0</th>\n",
       "      <td>0</td>\n",
       "      <td>8</td>\n",
       "      <td>40.5</td>\n",
       "      <td>39.0</td>\n",
       "      <td>4.0</td>\n",
       "      <td>0.284</td>\n",
       "      <td>0.256</td>\n",
       "      <td>0</td>\n",
       "    </tr>\n",
       "    <tr>\n",
       "      <th>1</th>\n",
       "      <td>8</td>\n",
       "      <td>0</td>\n",
       "      <td>37.0</td>\n",
       "      <td>31.5</td>\n",
       "      <td>4.0</td>\n",
       "      <td>0.356</td>\n",
       "      <td>0.270</td>\n",
       "      <td>1</td>\n",
       "    </tr>\n",
       "    <tr>\n",
       "      <th>2</th>\n",
       "      <td>3</td>\n",
       "      <td>9</td>\n",
       "      <td>47.0</td>\n",
       "      <td>40.5</td>\n",
       "      <td>8.0</td>\n",
       "      <td>0.409</td>\n",
       "      <td>0.333</td>\n",
       "      <td>1</td>\n",
       "    </tr>\n",
       "    <tr>\n",
       "      <th>3</th>\n",
       "      <td>9</td>\n",
       "      <td>3</td>\n",
       "      <td>42.5</td>\n",
       "      <td>39.0</td>\n",
       "      <td>5.0</td>\n",
       "      <td>0.365</td>\n",
       "      <td>0.308</td>\n",
       "      <td>0</td>\n",
       "    </tr>\n",
       "    <tr>\n",
       "      <th>4</th>\n",
       "      <td>5</td>\n",
       "      <td>6</td>\n",
       "      <td>40.5</td>\n",
       "      <td>38.0</td>\n",
       "      <td>7.0</td>\n",
       "      <td>0.363</td>\n",
       "      <td>0.342</td>\n",
       "      <td>0</td>\n",
       "    </tr>\n",
       "    <tr>\n",
       "      <th>5</th>\n",
       "      <td>6</td>\n",
       "      <td>5</td>\n",
       "      <td>41.5</td>\n",
       "      <td>35.0</td>\n",
       "      <td>6.0</td>\n",
       "      <td>0.346</td>\n",
       "      <td>0.257</td>\n",
       "      <td>1</td>\n",
       "    </tr>\n",
       "    <tr>\n",
       "      <th>6</th>\n",
       "      <td>4</td>\n",
       "      <td>7</td>\n",
       "      <td>46.0</td>\n",
       "      <td>39.0</td>\n",
       "      <td>6.0</td>\n",
       "      <td>0.344</td>\n",
       "      <td>0.244</td>\n",
       "      <td>0</td>\n",
       "    </tr>\n",
       "    <tr>\n",
       "      <th>7</th>\n",
       "      <td>7</td>\n",
       "      <td>4</td>\n",
       "      <td>38.5</td>\n",
       "      <td>31.5</td>\n",
       "      <td>4.5</td>\n",
       "      <td>0.342</td>\n",
       "      <td>0.206</td>\n",
       "      <td>1</td>\n",
       "    </tr>\n",
       "  </tbody>\n",
       "</table>\n",
       "</div>"
      ],
      "text/plain": [
       "   T_ID  VS_T_ID    PA    AB  RUN    OBP    OOO  win\n",
       "0     0        8  40.5  39.0  4.0  0.284  0.256    0\n",
       "1     8        0  37.0  31.5  4.0  0.356  0.270    1\n",
       "2     3        9  47.0  40.5  8.0  0.409  0.333    1\n",
       "3     9        3  42.5  39.0  5.0  0.365  0.308    0\n",
       "4     5        6  40.5  38.0  7.0  0.363  0.342    0\n",
       "5     6        5  41.5  35.0  6.0  0.346  0.257    1\n",
       "6     4        7  46.0  39.0  6.0  0.344  0.244    0\n",
       "7     7        4  38.5  31.5  4.5  0.342  0.206    1"
      ]
     },
     "execution_count": 18,
     "metadata": {},
     "output_type": "execute_result"
    }
   ],
   "source": [
    "baseball_data[['RUN', 'AB', 'PA']] = baseball_data[['RUN', 'AB', 'PA']]/2\n",
    "baseball_data"
   ]
  },
  {
   "cell_type": "code",
   "execution_count": 19,
   "metadata": {},
   "outputs": [
    {
     "data": {
      "text/plain": [
       "Index(['T_ID', 'VS_T_ID', 'PA', 'AB', 'RUN', 'OBP', 'OOO', 'win'], dtype='object')"
      ]
     },
     "execution_count": 19,
     "metadata": {},
     "output_type": "execute_result"
    }
   ],
   "source": [
    "baseball_data.columns"
   ]
  },
  {
   "cell_type": "code",
   "execution_count": 20,
   "metadata": {},
   "outputs": [],
   "source": [
    "train_data = baseball_data[['RUN', 'AB', 'PA', 'OOO', 'T_ID', 'VS_T_ID', 'OBP']]"
   ]
  },
  {
   "cell_type": "code",
   "execution_count": 21,
   "metadata": {},
   "outputs": [
    {
     "data": {
      "text/html": [
       "<div>\n",
       "<style scoped>\n",
       "    .dataframe tbody tr th:only-of-type {\n",
       "        vertical-align: middle;\n",
       "    }\n",
       "\n",
       "    .dataframe tbody tr th {\n",
       "        vertical-align: top;\n",
       "    }\n",
       "\n",
       "    .dataframe thead th {\n",
       "        text-align: right;\n",
       "    }\n",
       "</style>\n",
       "<table border=\"1\" class=\"dataframe\">\n",
       "  <thead>\n",
       "    <tr style=\"text-align: right;\">\n",
       "      <th></th>\n",
       "      <th>RUN</th>\n",
       "      <th>AB</th>\n",
       "      <th>PA</th>\n",
       "      <th>OOO</th>\n",
       "      <th>T_ID</th>\n",
       "      <th>VS_T_ID</th>\n",
       "      <th>OBP</th>\n",
       "    </tr>\n",
       "  </thead>\n",
       "  <tbody>\n",
       "    <tr>\n",
       "      <th>0</th>\n",
       "      <td>4.0</td>\n",
       "      <td>39.0</td>\n",
       "      <td>40.5</td>\n",
       "      <td>0.256</td>\n",
       "      <td>0</td>\n",
       "      <td>8</td>\n",
       "      <td>0.284</td>\n",
       "    </tr>\n",
       "    <tr>\n",
       "      <th>1</th>\n",
       "      <td>4.0</td>\n",
       "      <td>31.5</td>\n",
       "      <td>37.0</td>\n",
       "      <td>0.270</td>\n",
       "      <td>8</td>\n",
       "      <td>0</td>\n",
       "      <td>0.356</td>\n",
       "    </tr>\n",
       "    <tr>\n",
       "      <th>2</th>\n",
       "      <td>8.0</td>\n",
       "      <td>40.5</td>\n",
       "      <td>47.0</td>\n",
       "      <td>0.333</td>\n",
       "      <td>3</td>\n",
       "      <td>9</td>\n",
       "      <td>0.409</td>\n",
       "    </tr>\n",
       "    <tr>\n",
       "      <th>3</th>\n",
       "      <td>5.0</td>\n",
       "      <td>39.0</td>\n",
       "      <td>42.5</td>\n",
       "      <td>0.308</td>\n",
       "      <td>9</td>\n",
       "      <td>3</td>\n",
       "      <td>0.365</td>\n",
       "    </tr>\n",
       "    <tr>\n",
       "      <th>4</th>\n",
       "      <td>7.0</td>\n",
       "      <td>38.0</td>\n",
       "      <td>40.5</td>\n",
       "      <td>0.342</td>\n",
       "      <td>5</td>\n",
       "      <td>6</td>\n",
       "      <td>0.363</td>\n",
       "    </tr>\n",
       "    <tr>\n",
       "      <th>5</th>\n",
       "      <td>6.0</td>\n",
       "      <td>35.0</td>\n",
       "      <td>41.5</td>\n",
       "      <td>0.257</td>\n",
       "      <td>6</td>\n",
       "      <td>5</td>\n",
       "      <td>0.346</td>\n",
       "    </tr>\n",
       "    <tr>\n",
       "      <th>6</th>\n",
       "      <td>6.0</td>\n",
       "      <td>39.0</td>\n",
       "      <td>46.0</td>\n",
       "      <td>0.244</td>\n",
       "      <td>4</td>\n",
       "      <td>7</td>\n",
       "      <td>0.344</td>\n",
       "    </tr>\n",
       "    <tr>\n",
       "      <th>7</th>\n",
       "      <td>4.5</td>\n",
       "      <td>31.5</td>\n",
       "      <td>38.5</td>\n",
       "      <td>0.206</td>\n",
       "      <td>7</td>\n",
       "      <td>4</td>\n",
       "      <td>0.342</td>\n",
       "    </tr>\n",
       "  </tbody>\n",
       "</table>\n",
       "</div>"
      ],
      "text/plain": [
       "   RUN    AB    PA    OOO  T_ID  VS_T_ID    OBP\n",
       "0  4.0  39.0  40.5  0.256     0        8  0.284\n",
       "1  4.0  31.5  37.0  0.270     8        0  0.356\n",
       "2  8.0  40.5  47.0  0.333     3        9  0.409\n",
       "3  5.0  39.0  42.5  0.308     9        3  0.365\n",
       "4  7.0  38.0  40.5  0.342     5        6  0.363\n",
       "5  6.0  35.0  41.5  0.257     6        5  0.346\n",
       "6  6.0  39.0  46.0  0.244     4        7  0.344\n",
       "7  4.5  31.5  38.5  0.206     7        4  0.342"
      ]
     },
     "execution_count": 21,
     "metadata": {},
     "output_type": "execute_result"
    }
   ],
   "source": [
    "train_data"
   ]
  },
  {
   "cell_type": "code",
   "execution_count": 22,
   "metadata": {},
   "outputs": [
    {
     "data": {
      "text/plain": [
       "array([[0.76866273, 0.23133727],\n",
       "       [0.29751666, 0.70248334],\n",
       "       [0.43647427, 0.56352573],\n",
       "       [0.5365133 , 0.4634867 ],\n",
       "       [0.28044922, 0.71955078],\n",
       "       [0.48622275, 0.51377725],\n",
       "       [0.53895   , 0.46105   ],\n",
       "       [0.53357106, 0.46642894]])"
      ]
     },
     "execution_count": 22,
     "metadata": {},
     "output_type": "execute_result"
    }
   ],
   "source": [
    "import pickle\n",
    "pickled_RandomForest_model = pickle.load(open('C:/workspace/p-tag/model/random_forest.pkl', 'rb'))\n",
    "pred = pickled_RandomForest_model.predict(train_data)\n",
    "pred_probs_RandomForest = pickled_RandomForest_model.predict_proba(train_data)\n",
    "pred_probs_RandomForest\n"
   ]
  },
  {
   "cell_type": "code",
   "execution_count": 23,
   "metadata": {},
   "outputs": [
    {
     "data": {
      "text/plain": [
       "array([[0.761752  , 0.23824802],\n",
       "       [0.37841213, 0.6215879 ],\n",
       "       [0.44093275, 0.55906725],\n",
       "       [0.6261011 , 0.37389892],\n",
       "       [0.41117954, 0.58882046],\n",
       "       [0.48490846, 0.51509154],\n",
       "       [0.48298782, 0.5170122 ],\n",
       "       [0.4914462 , 0.5085538 ]], dtype=float32)"
      ]
     },
     "execution_count": 23,
     "metadata": {},
     "output_type": "execute_result"
    }
   ],
   "source": [
    "pickled_XGBoost_model = pickle.load(open('C:/workspace/p-tag/model/xgboost.pkl', 'rb'))\n",
    "dtest = xgb.DMatrix(data=train_data)\n",
    "\n",
    "percent = pickled_XGBoost_model.predict(dtest)\n",
    "preds = [ 1 if x > 0.5 else 0 for x in percent ]\n",
    "pred_probs_xgboost = np.array([arr for arr in zip(1-percent,percent)])\n",
    "pred_probs_xgboost"
   ]
  },
  {
   "cell_type": "code",
   "execution_count": 25,
   "metadata": {},
   "outputs": [
    {
     "data": {
      "text/plain": [
       "array([[0.84764062, 0.15235938],\n",
       "       [0.26940196, 0.73059804],\n",
       "       [0.4192159 , 0.5807841 ],\n",
       "       [0.58229941, 0.41770059],\n",
       "       [0.3271821 , 0.6728179 ],\n",
       "       [0.51517013, 0.48482987],\n",
       "       [0.5642558 , 0.4357442 ],\n",
       "       [0.57141653, 0.42858347]])"
      ]
     },
     "execution_count": 25,
     "metadata": {},
     "output_type": "execute_result"
    }
   ],
   "source": [
    "pickled_GBM_model = pickle.load(open('C:/workspace/p-tag/model/GBM.pkl', 'rb'))\n",
    "\n",
    "pred = pickled_GBM_model.predict(train_data)\n",
    "pred_probs_GBM = pickled_GBM_model.predict_proba(train_data)\n",
    "pred_probs_GBM\n"
   ]
  },
  {
   "cell_type": "code",
   "execution_count": 26,
   "metadata": {},
   "outputs": [
    {
     "data": {
      "text/plain": [
       "array([[0.761752  , 0.23824802],\n",
       "       [0.37841213, 0.6215879 ],\n",
       "       [0.44093275, 0.55906725],\n",
       "       [0.6261011 , 0.37389892],\n",
       "       [0.41117954, 0.58882046],\n",
       "       [0.48490846, 0.51509154],\n",
       "       [0.48298782, 0.5170122 ],\n",
       "       [0.4914462 , 0.5085538 ]], dtype=float32)"
      ]
     },
     "execution_count": 26,
     "metadata": {},
     "output_type": "execute_result"
    }
   ],
   "source": [
    "pred_probs_xgboost = np.array([arr for arr in zip(1-percent,percent)])\n",
    "pred_probs_xgboost"
   ]
  },
  {
   "cell_type": "code",
   "execution_count": 27,
   "metadata": {},
   "outputs": [
    {
     "data": {
      "text/plain": [
       "array([[0.80857854, 0.19142146],\n",
       "       [0.23437902, 0.76562098],\n",
       "       [0.42432119, 0.57567881],\n",
       "       [0.66684799, 0.33315201],\n",
       "       [0.30488244, 0.69511756],\n",
       "       [0.45787558, 0.54212442],\n",
       "       [0.44233644, 0.55766356],\n",
       "       [0.51265582, 0.48734418]])"
      ]
     },
     "execution_count": 27,
     "metadata": {},
     "output_type": "execute_result"
    }
   ],
   "source": [
    "pickled_LightGBM_model = pickle.load(open('C:/workspace/p-tag/model/LightGBM.pkl', 'rb'))\n",
    "pred = pickled_LightGBM_model.predict(train_data)\n",
    "\n",
    "pred_probs_LightGBM = pickled_LightGBM_model.predict_proba(train_data)\n",
    "pred_probs_LightGBM"
   ]
  },
  {
   "cell_type": "code",
   "execution_count": 29,
   "metadata": {},
   "outputs": [
    {
     "name": "stdout",
     "output_type": "stream",
     "text": [
      "1/1 [==============================] - 0s 277ms/step\n"
     ]
    }
   ],
   "source": [
    "pickled_DeepLearning_model = pickle.load(open('C:/workspace/p-tag/model/DeepLearning.pkl', 'rb'))\n",
    "\n",
    "pred_probs_DeepLearning = pickled_DeepLearning_model.predict(train_data)"
   ]
  },
  {
   "cell_type": "code",
   "execution_count": 30,
   "metadata": {},
   "outputs": [
    {
     "data": {
      "text/plain": [
       "[0, 1, 0, 0, 1, 0, 0, 0]"
      ]
     },
     "execution_count": 30,
     "metadata": {},
     "output_type": "execute_result"
    }
   ],
   "source": [
    "total_pred_probs = (pred_probs_RandomForest + pred_probs_xgboost + pred_probs_GBM + pred_probs_LightGBM + pred_probs_DeepLearning)/5\n",
    "\n",
    "preds = [1 if total_pred_probs[index][0] < total_pred_probs[index][1] else 0 for index in range(len(total_pred_probs))]\n",
    "preds"
   ]
  },
  {
   "cell_type": "code",
   "execution_count": 37,
   "metadata": {},
   "outputs": [
    {
     "data": {
      "text/plain": [
       "[0, 1, 0, 0, 0, 0, 0, 0]"
      ]
     },
     "execution_count": 37,
     "metadata": {},
     "output_type": "execute_result"
    }
   ],
   "source": [
    "pred = [1 if pred_probs_DeepLearning[index][0] < pred_probs_DeepLearning[index][1] else 0 for index in range(len(pred_probs_DeepLearning))]\n",
    "pred"
   ]
  },
  {
   "cell_type": "code",
   "execution_count": 35,
   "metadata": {},
   "outputs": [
    {
     "data": {
      "text/plain": [
       "0    0\n",
       "1    1\n",
       "2    1\n",
       "3    0\n",
       "4    0\n",
       "5    1\n",
       "6    0\n",
       "7    1\n",
       "Name: win, dtype: int64"
      ]
     },
     "execution_count": 35,
     "metadata": {},
     "output_type": "execute_result"
    }
   ],
   "source": [
    "baseball_data['win']"
   ]
  },
  {
   "cell_type": "code",
   "execution_count": 31,
   "metadata": {},
   "outputs": [
    {
     "data": {
      "text/html": [
       "<div>\n",
       "<style scoped>\n",
       "    .dataframe tbody tr th:only-of-type {\n",
       "        vertical-align: middle;\n",
       "    }\n",
       "\n",
       "    .dataframe tbody tr th {\n",
       "        vertical-align: top;\n",
       "    }\n",
       "\n",
       "    .dataframe thead th {\n",
       "        text-align: right;\n",
       "    }\n",
       "</style>\n",
       "<table border=\"1\" class=\"dataframe\">\n",
       "  <thead>\n",
       "    <tr style=\"text-align: right;\">\n",
       "      <th></th>\n",
       "      <th>T_ID</th>\n",
       "      <th>VS_T_ID</th>\n",
       "      <th>PA</th>\n",
       "      <th>AB</th>\n",
       "      <th>RUN</th>\n",
       "      <th>OBP</th>\n",
       "      <th>OOO</th>\n",
       "      <th>win</th>\n",
       "    </tr>\n",
       "  </thead>\n",
       "  <tbody>\n",
       "    <tr>\n",
       "      <th>0</th>\n",
       "      <td>0</td>\n",
       "      <td>8</td>\n",
       "      <td>40.5</td>\n",
       "      <td>39.0</td>\n",
       "      <td>4.0</td>\n",
       "      <td>0.284</td>\n",
       "      <td>0.256</td>\n",
       "      <td>0</td>\n",
       "    </tr>\n",
       "    <tr>\n",
       "      <th>1</th>\n",
       "      <td>8</td>\n",
       "      <td>0</td>\n",
       "      <td>37.0</td>\n",
       "      <td>31.5</td>\n",
       "      <td>4.0</td>\n",
       "      <td>0.356</td>\n",
       "      <td>0.270</td>\n",
       "      <td>1</td>\n",
       "    </tr>\n",
       "    <tr>\n",
       "      <th>2</th>\n",
       "      <td>3</td>\n",
       "      <td>9</td>\n",
       "      <td>47.0</td>\n",
       "      <td>40.5</td>\n",
       "      <td>8.0</td>\n",
       "      <td>0.409</td>\n",
       "      <td>0.333</td>\n",
       "      <td>1</td>\n",
       "    </tr>\n",
       "    <tr>\n",
       "      <th>3</th>\n",
       "      <td>9</td>\n",
       "      <td>3</td>\n",
       "      <td>42.5</td>\n",
       "      <td>39.0</td>\n",
       "      <td>5.0</td>\n",
       "      <td>0.365</td>\n",
       "      <td>0.308</td>\n",
       "      <td>0</td>\n",
       "    </tr>\n",
       "    <tr>\n",
       "      <th>4</th>\n",
       "      <td>5</td>\n",
       "      <td>6</td>\n",
       "      <td>40.5</td>\n",
       "      <td>38.0</td>\n",
       "      <td>7.0</td>\n",
       "      <td>0.363</td>\n",
       "      <td>0.342</td>\n",
       "      <td>0</td>\n",
       "    </tr>\n",
       "    <tr>\n",
       "      <th>5</th>\n",
       "      <td>6</td>\n",
       "      <td>5</td>\n",
       "      <td>41.5</td>\n",
       "      <td>35.0</td>\n",
       "      <td>6.0</td>\n",
       "      <td>0.346</td>\n",
       "      <td>0.257</td>\n",
       "      <td>1</td>\n",
       "    </tr>\n",
       "    <tr>\n",
       "      <th>6</th>\n",
       "      <td>4</td>\n",
       "      <td>7</td>\n",
       "      <td>46.0</td>\n",
       "      <td>39.0</td>\n",
       "      <td>6.0</td>\n",
       "      <td>0.344</td>\n",
       "      <td>0.244</td>\n",
       "      <td>0</td>\n",
       "    </tr>\n",
       "    <tr>\n",
       "      <th>7</th>\n",
       "      <td>7</td>\n",
       "      <td>4</td>\n",
       "      <td>38.5</td>\n",
       "      <td>31.5</td>\n",
       "      <td>4.5</td>\n",
       "      <td>0.342</td>\n",
       "      <td>0.206</td>\n",
       "      <td>1</td>\n",
       "    </tr>\n",
       "  </tbody>\n",
       "</table>\n",
       "</div>"
      ],
      "text/plain": [
       "   T_ID  VS_T_ID    PA    AB  RUN    OBP    OOO  win\n",
       "0     0        8  40.5  39.0  4.0  0.284  0.256    0\n",
       "1     8        0  37.0  31.5  4.0  0.356  0.270    1\n",
       "2     3        9  47.0  40.5  8.0  0.409  0.333    1\n",
       "3     9        3  42.5  39.0  5.0  0.365  0.308    0\n",
       "4     5        6  40.5  38.0  7.0  0.363  0.342    0\n",
       "5     6        5  41.5  35.0  6.0  0.346  0.257    1\n",
       "6     4        7  46.0  39.0  6.0  0.344  0.244    0\n",
       "7     7        4  38.5  31.5  4.5  0.342  0.206    1"
      ]
     },
     "execution_count": 31,
     "metadata": {},
     "output_type": "execute_result"
    }
   ],
   "source": [
    "baseball_data"
   ]
  },
  {
   "cell_type": "code",
   "execution_count": 32,
   "metadata": {},
   "outputs": [
    {
     "name": "stdout",
     "output_type": "stream",
     "text": [
      "예측 정확도: 0.5000\n"
     ]
    }
   ],
   "source": [
    "from sklearn.metrics import accuracy_score\n",
    "print('예측 정확도: {0:.4f}'.format(accuracy_score(baseball_data['win'], preds)))"
   ]
  },
  {
   "cell_type": "code",
   "execution_count": null,
   "metadata": {},
   "outputs": [],
   "source": [
    "total_pred_probs = (pred_probs_RandomForest + pred_probs_xgboost + pred_probs_GBM + pred_probs_LightGBM + pred_probs_DeepLearning)/5\n",
    "\n",
    "preds = [1 if total_pred_probs[index][0] < total_pred_probs[index][1] else 0 for index in range(len(total_pred_probs))]"
   ]
  },
  {
   "cell_type": "code",
   "execution_count": null,
   "metadata": {},
   "outputs": [],
   "source": []
  },
  {
   "cell_type": "code",
   "execution_count": null,
   "metadata": {},
   "outputs": [],
   "source": []
  }
 ],
 "metadata": {
  "kernelspec": {
   "display_name": "base",
   "language": "python",
   "name": "python3"
  },
  "language_info": {
   "codemirror_mode": {
    "name": "ipython",
    "version": 3
   },
   "file_extension": ".py",
   "mimetype": "text/x-python",
   "name": "python",
   "nbconvert_exporter": "python",
   "pygments_lexer": "ipython3",
   "version": "3.9.13"
  },
  "orig_nbformat": 4
 },
 "nbformat": 4,
 "nbformat_minor": 2
}
