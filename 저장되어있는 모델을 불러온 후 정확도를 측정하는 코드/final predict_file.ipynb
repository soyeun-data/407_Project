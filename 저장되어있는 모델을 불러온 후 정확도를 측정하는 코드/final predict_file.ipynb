{
 "cells": [
  {
   "cell_type": "code",
   "execution_count": 9,
   "metadata": {},
   "outputs": [],
   "source": [
    "import pandas as pd\n",
    "import pickle\n",
    "import numpy as np\n",
    "from tqdm import tqdm\n",
    "import warnings\n",
    "warnings.filterwarnings('ignore')\n",
    "\n",
    "from sklearn.preprocessing import LabelEncoder\n",
    "from sklearn.model_selection import train_test_split\n",
    "\n",
    "from sklearn.metrics import accuracy_score\n",
    "\n",
    "import xgboost as xgb"
   ]
  },
  {
   "attachments": {},
   "cell_type": "markdown",
   "metadata": {},
   "source": [
    "## 4/7 경기 예측"
   ]
  },
  {
   "cell_type": "code",
   "execution_count": 76,
   "metadata": {},
   "outputs": [],
   "source": [
    "filename = 'C:/workspace/p-tag/baseball_2022_for_20230407_vol2.csv'\n",
    "data = pd.read_csv(filename,encoding='cp949')"
   ]
  },
  {
   "cell_type": "code",
   "execution_count": 83,
   "metadata": {},
   "outputs": [
    {
     "data": {
      "text/html": [
       "<div>\n",
       "<style scoped>\n",
       "    .dataframe tbody tr th:only-of-type {\n",
       "        vertical-align: middle;\n",
       "    }\n",
       "\n",
       "    .dataframe tbody tr th {\n",
       "        vertical-align: top;\n",
       "    }\n",
       "\n",
       "    .dataframe thead th {\n",
       "        text-align: right;\n",
       "    }\n",
       "</style>\n",
       "<table border=\"1\" class=\"dataframe\">\n",
       "  <thead>\n",
       "    <tr style=\"text-align: right;\">\n",
       "      <th></th>\n",
       "      <th>T_ID</th>\n",
       "      <th>VS_T_ID</th>\n",
       "      <th>PA</th>\n",
       "      <th>AB</th>\n",
       "      <th>RUN</th>\n",
       "      <th>OBP</th>\n",
       "      <th>OOO</th>\n",
       "      <th>Unnamed: 7</th>\n",
       "    </tr>\n",
       "  </thead>\n",
       "  <tbody>\n",
       "    <tr>\n",
       "      <th>0</th>\n",
       "      <td>KT</td>\n",
       "      <td>LT</td>\n",
       "      <td>37.7500</td>\n",
       "      <td>32.8125</td>\n",
       "      <td>4.1250</td>\n",
       "      <td>0.331</td>\n",
       "      <td>0.250</td>\n",
       "      <td>NaN</td>\n",
       "    </tr>\n",
       "    <tr>\n",
       "      <th>1</th>\n",
       "      <td>LT</td>\n",
       "      <td>KT</td>\n",
       "      <td>37.1250</td>\n",
       "      <td>33.8125</td>\n",
       "      <td>3.9375</td>\n",
       "      <td>0.320</td>\n",
       "      <td>0.275</td>\n",
       "      <td>NaN</td>\n",
       "    </tr>\n",
       "    <tr>\n",
       "      <th>2</th>\n",
       "      <td>OB</td>\n",
       "      <td>KIA</td>\n",
       "      <td>39.1250</td>\n",
       "      <td>34.0625</td>\n",
       "      <td>4.5000</td>\n",
       "      <td>0.345</td>\n",
       "      <td>0.266</td>\n",
       "      <td>NaN</td>\n",
       "    </tr>\n",
       "    <tr>\n",
       "      <th>3</th>\n",
       "      <td>KIA</td>\n",
       "      <td>OB</td>\n",
       "      <td>39.5000</td>\n",
       "      <td>34.9375</td>\n",
       "      <td>5.0000</td>\n",
       "      <td>0.351</td>\n",
       "      <td>0.281</td>\n",
       "      <td>NaN</td>\n",
       "    </tr>\n",
       "    <tr>\n",
       "      <th>4</th>\n",
       "      <td>SSG</td>\n",
       "      <td>HH</td>\n",
       "      <td>39.3750</td>\n",
       "      <td>33.0625</td>\n",
       "      <td>6.0000</td>\n",
       "      <td>0.369</td>\n",
       "      <td>0.274</td>\n",
       "      <td>NaN</td>\n",
       "    </tr>\n",
       "    <tr>\n",
       "      <th>5</th>\n",
       "      <td>HH</td>\n",
       "      <td>SSG</td>\n",
       "      <td>37.6875</td>\n",
       "      <td>33.7500</td>\n",
       "      <td>4.2500</td>\n",
       "      <td>0.336</td>\n",
       "      <td>0.269</td>\n",
       "      <td>NaN</td>\n",
       "    </tr>\n",
       "    <tr>\n",
       "      <th>6</th>\n",
       "      <td>SS</td>\n",
       "      <td>LG</td>\n",
       "      <td>38.1875</td>\n",
       "      <td>34.4375</td>\n",
       "      <td>3.9375</td>\n",
       "      <td>0.327</td>\n",
       "      <td>0.272</td>\n",
       "      <td>NaN</td>\n",
       "    </tr>\n",
       "    <tr>\n",
       "      <th>7</th>\n",
       "      <td>LG</td>\n",
       "      <td>SS</td>\n",
       "      <td>39.2500</td>\n",
       "      <td>35.1875</td>\n",
       "      <td>6.2500</td>\n",
       "      <td>0.356</td>\n",
       "      <td>0.291</td>\n",
       "      <td>NaN</td>\n",
       "    </tr>\n",
       "    <tr>\n",
       "      <th>8</th>\n",
       "      <td>WO</td>\n",
       "      <td>NC</td>\n",
       "      <td>41.4375</td>\n",
       "      <td>34.9375</td>\n",
       "      <td>5.3750</td>\n",
       "      <td>0.371</td>\n",
       "      <td>0.268</td>\n",
       "      <td>NaN</td>\n",
       "    </tr>\n",
       "    <tr>\n",
       "      <th>9</th>\n",
       "      <td>NC</td>\n",
       "      <td>WO</td>\n",
       "      <td>39.1875</td>\n",
       "      <td>34.5000</td>\n",
       "      <td>3.8125</td>\n",
       "      <td>0.322</td>\n",
       "      <td>0.250</td>\n",
       "      <td>NaN</td>\n",
       "    </tr>\n",
       "  </tbody>\n",
       "</table>\n",
       "</div>"
      ],
      "text/plain": [
       "  T_ID VS_T_ID       PA       AB     RUN    OBP    OOO  Unnamed: 7\n",
       "0   KT      LT  37.7500  32.8125  4.1250  0.331  0.250         NaN\n",
       "1   LT      KT  37.1250  33.8125  3.9375  0.320  0.275         NaN\n",
       "2   OB     KIA  39.1250  34.0625  4.5000  0.345  0.266         NaN\n",
       "3  KIA      OB  39.5000  34.9375  5.0000  0.351  0.281         NaN\n",
       "4  SSG      HH  39.3750  33.0625  6.0000  0.369  0.274         NaN\n",
       "5   HH     SSG  37.6875  33.7500  4.2500  0.336  0.269         NaN\n",
       "6   SS      LG  38.1875  34.4375  3.9375  0.327  0.272         NaN\n",
       "7   LG      SS  39.2500  35.1875  6.2500  0.356  0.291         NaN\n",
       "8   WO      NC  41.4375  34.9375  5.3750  0.371  0.268         NaN\n",
       "9   NC      WO  39.1875  34.5000  3.8125  0.322  0.250         NaN"
      ]
     },
     "execution_count": 83,
     "metadata": {},
     "output_type": "execute_result"
    }
   ],
   "source": [
    "baseball_data = data.copy()\n",
    "baseball_data"
   ]
  },
  {
   "cell_type": "code",
   "execution_count": 84,
   "metadata": {},
   "outputs": [
    {
     "data": {
      "text/plain": [
       "Index(['T_ID', 'VS_T_ID', 'PA', 'AB', 'RUN', 'OBP', 'OOO', 'Unnamed: 7'], dtype='object')"
      ]
     },
     "execution_count": 84,
     "metadata": {},
     "output_type": "execute_result"
    }
   ],
   "source": [
    "baseball_data.columns"
   ]
  },
  {
   "cell_type": "code",
   "execution_count": 85,
   "metadata": {},
   "outputs": [
    {
     "data": {
      "text/plain": [
       "'KT'"
      ]
     },
     "execution_count": 85,
     "metadata": {},
     "output_type": "execute_result"
    }
   ],
   "source": [
    "baseball_data['T_ID'].iloc[0]"
   ]
  },
  {
   "cell_type": "code",
   "execution_count": 86,
   "metadata": {},
   "outputs": [
    {
     "data": {
      "text/plain": [
       "10"
      ]
     },
     "execution_count": 86,
     "metadata": {},
     "output_type": "execute_result"
    }
   ],
   "source": [
    "len(baseball_data['T_ID'])"
   ]
  },
  {
   "cell_type": "code",
   "execution_count": 87,
   "metadata": {},
   "outputs": [],
   "source": [
    "team_list = ['HH', 'KIA', 'KT', 'LG', 'LT', 'NC', 'OB', 'SSG', 'SS', 'WO']\n",
    "number = len(baseball_data['T_ID'])\n",
    "\n",
    "for index in range(number):\n",
    "    baseball_data['T_ID'] = baseball_data['T_ID'].replace(team_list[index],index)\n",
    "    baseball_data['VS_T_ID'] = baseball_data['VS_T_ID'].replace(team_list[index],index)"
   ]
  },
  {
   "cell_type": "code",
   "execution_count": 88,
   "metadata": {},
   "outputs": [
    {
     "data": {
      "text/html": [
       "<div>\n",
       "<style scoped>\n",
       "    .dataframe tbody tr th:only-of-type {\n",
       "        vertical-align: middle;\n",
       "    }\n",
       "\n",
       "    .dataframe tbody tr th {\n",
       "        vertical-align: top;\n",
       "    }\n",
       "\n",
       "    .dataframe thead th {\n",
       "        text-align: right;\n",
       "    }\n",
       "</style>\n",
       "<table border=\"1\" class=\"dataframe\">\n",
       "  <thead>\n",
       "    <tr style=\"text-align: right;\">\n",
       "      <th></th>\n",
       "      <th>T_ID</th>\n",
       "      <th>VS_T_ID</th>\n",
       "      <th>PA</th>\n",
       "      <th>AB</th>\n",
       "      <th>RUN</th>\n",
       "      <th>OBP</th>\n",
       "      <th>OOO</th>\n",
       "      <th>Unnamed: 7</th>\n",
       "    </tr>\n",
       "  </thead>\n",
       "  <tbody>\n",
       "    <tr>\n",
       "      <th>0</th>\n",
       "      <td>2</td>\n",
       "      <td>4</td>\n",
       "      <td>37.7500</td>\n",
       "      <td>32.8125</td>\n",
       "      <td>4.1250</td>\n",
       "      <td>0.331</td>\n",
       "      <td>0.250</td>\n",
       "      <td>NaN</td>\n",
       "    </tr>\n",
       "    <tr>\n",
       "      <th>1</th>\n",
       "      <td>4</td>\n",
       "      <td>2</td>\n",
       "      <td>37.1250</td>\n",
       "      <td>33.8125</td>\n",
       "      <td>3.9375</td>\n",
       "      <td>0.320</td>\n",
       "      <td>0.275</td>\n",
       "      <td>NaN</td>\n",
       "    </tr>\n",
       "    <tr>\n",
       "      <th>2</th>\n",
       "      <td>6</td>\n",
       "      <td>1</td>\n",
       "      <td>39.1250</td>\n",
       "      <td>34.0625</td>\n",
       "      <td>4.5000</td>\n",
       "      <td>0.345</td>\n",
       "      <td>0.266</td>\n",
       "      <td>NaN</td>\n",
       "    </tr>\n",
       "    <tr>\n",
       "      <th>3</th>\n",
       "      <td>1</td>\n",
       "      <td>6</td>\n",
       "      <td>39.5000</td>\n",
       "      <td>34.9375</td>\n",
       "      <td>5.0000</td>\n",
       "      <td>0.351</td>\n",
       "      <td>0.281</td>\n",
       "      <td>NaN</td>\n",
       "    </tr>\n",
       "    <tr>\n",
       "      <th>4</th>\n",
       "      <td>7</td>\n",
       "      <td>0</td>\n",
       "      <td>39.3750</td>\n",
       "      <td>33.0625</td>\n",
       "      <td>6.0000</td>\n",
       "      <td>0.369</td>\n",
       "      <td>0.274</td>\n",
       "      <td>NaN</td>\n",
       "    </tr>\n",
       "    <tr>\n",
       "      <th>5</th>\n",
       "      <td>0</td>\n",
       "      <td>7</td>\n",
       "      <td>37.6875</td>\n",
       "      <td>33.7500</td>\n",
       "      <td>4.2500</td>\n",
       "      <td>0.336</td>\n",
       "      <td>0.269</td>\n",
       "      <td>NaN</td>\n",
       "    </tr>\n",
       "    <tr>\n",
       "      <th>6</th>\n",
       "      <td>8</td>\n",
       "      <td>3</td>\n",
       "      <td>38.1875</td>\n",
       "      <td>34.4375</td>\n",
       "      <td>3.9375</td>\n",
       "      <td>0.327</td>\n",
       "      <td>0.272</td>\n",
       "      <td>NaN</td>\n",
       "    </tr>\n",
       "    <tr>\n",
       "      <th>7</th>\n",
       "      <td>3</td>\n",
       "      <td>8</td>\n",
       "      <td>39.2500</td>\n",
       "      <td>35.1875</td>\n",
       "      <td>6.2500</td>\n",
       "      <td>0.356</td>\n",
       "      <td>0.291</td>\n",
       "      <td>NaN</td>\n",
       "    </tr>\n",
       "    <tr>\n",
       "      <th>8</th>\n",
       "      <td>9</td>\n",
       "      <td>5</td>\n",
       "      <td>41.4375</td>\n",
       "      <td>34.9375</td>\n",
       "      <td>5.3750</td>\n",
       "      <td>0.371</td>\n",
       "      <td>0.268</td>\n",
       "      <td>NaN</td>\n",
       "    </tr>\n",
       "    <tr>\n",
       "      <th>9</th>\n",
       "      <td>5</td>\n",
       "      <td>9</td>\n",
       "      <td>39.1875</td>\n",
       "      <td>34.5000</td>\n",
       "      <td>3.8125</td>\n",
       "      <td>0.322</td>\n",
       "      <td>0.250</td>\n",
       "      <td>NaN</td>\n",
       "    </tr>\n",
       "  </tbody>\n",
       "</table>\n",
       "</div>"
      ],
      "text/plain": [
       "   T_ID  VS_T_ID       PA       AB     RUN    OBP    OOO  Unnamed: 7\n",
       "0     2        4  37.7500  32.8125  4.1250  0.331  0.250         NaN\n",
       "1     4        2  37.1250  33.8125  3.9375  0.320  0.275         NaN\n",
       "2     6        1  39.1250  34.0625  4.5000  0.345  0.266         NaN\n",
       "3     1        6  39.5000  34.9375  5.0000  0.351  0.281         NaN\n",
       "4     7        0  39.3750  33.0625  6.0000  0.369  0.274         NaN\n",
       "5     0        7  37.6875  33.7500  4.2500  0.336  0.269         NaN\n",
       "6     8        3  38.1875  34.4375  3.9375  0.327  0.272         NaN\n",
       "7     3        8  39.2500  35.1875  6.2500  0.356  0.291         NaN\n",
       "8     9        5  41.4375  34.9375  5.3750  0.371  0.268         NaN\n",
       "9     5        9  39.1875  34.5000  3.8125  0.322  0.250         NaN"
      ]
     },
     "execution_count": 88,
     "metadata": {},
     "output_type": "execute_result"
    }
   ],
   "source": [
    "baseball_data"
   ]
  },
  {
   "cell_type": "code",
   "execution_count": 89,
   "metadata": {},
   "outputs": [],
   "source": [
    "test_x = baseball_data[['RUN', 'AB', 'PA', 'OOO', 'T_ID', 'VS_T_ID', 'OBP']]"
   ]
  },
  {
   "cell_type": "code",
   "execution_count": 90,
   "metadata": {},
   "outputs": [
    {
     "name": "stdout",
     "output_type": "stream",
     "text": [
      "1/1 [==============================] - 0s 119ms/step\n"
     ]
    }
   ],
   "source": [
    "# RandomForest pred probs 구하기\n",
    "pickled_RandomForest_model = pickle.load(open('C:/workspace/p-tag/model/random_forest.pkl', 'rb'))\n",
    "pred_probs_RandomForest = pickled_RandomForest_model.predict_proba(test_x)\n",
    "\n",
    "# XGBoost pred probs 구하기\n",
    "pickled_XGBoost_model = pickle.load(open('C:/workspace/p-tag/model/xgboost.pkl', 'rb'))\n",
    "dtest = xgb.DMatrix(data=test_x)\n",
    "percent = pickled_XGBoost_model.predict(dtest)\n",
    "pred_probs_xgboost = np.array([arr for arr in zip(1-percent,percent)])\n",
    "\n",
    "# GBM pred probs 구하기\n",
    "pickled_GBM_model = pickle.load(open('C:/workspace/p-tag/model/GBM.pkl', 'rb'))\n",
    "pred_probs_GBM = pickled_GBM_model.predict_proba(test_x)\n",
    "\n",
    "# LightGBM pred probs 구하기\n",
    "pickled_LightGBM_model = pickle.load(open('C:/workspace/p-tag/model/LightGBM.pkl', 'rb'))\n",
    "pred_probs_LightGBM = pickled_LightGBM_model.predict_proba(test_x)\n",
    "\n",
    "# DeepLearning pred probs 구하기\n",
    "pickled_DeepLearning_model = pickle.load(open('C:/workspace/p-tag/model/DeepLearning.pkl', 'rb'))\n",
    "pred_probs_DeepLearning = pickled_DeepLearning_model.predict(test_x)"
   ]
  },
  {
   "cell_type": "code",
   "execution_count": 91,
   "metadata": {},
   "outputs": [
    {
     "data": {
      "text/plain": [
       "[0, 0, 0, 0, 1, 0, 0, 0, 0, 0]"
      ]
     },
     "execution_count": 91,
     "metadata": {},
     "output_type": "execute_result"
    }
   ],
   "source": [
    "# 각 모델들의 pred probs를 합산하여 승부 예측\n",
    "total_pred_probs = (pred_probs_RandomForest + pred_probs_xgboost + pred_probs_GBM + pred_probs_LightGBM + pred_probs_DeepLearning)/5\n",
    "preds = [1 if total_pred_probs[index][0] < total_pred_probs[index][1] else 0 for index in range(len(total_pred_probs))]\n",
    "preds"
   ]
  },
  {
   "cell_type": "code",
   "execution_count": 92,
   "metadata": {},
   "outputs": [
    {
     "data": {
      "text/plain": [
       "array([[0.79001257, 0.20998742],\n",
       "       [0.75785758, 0.24214243],\n",
       "       [0.509688  , 0.490312  ],\n",
       "       [0.70583774, 0.29416226],\n",
       "       [0.16851304, 0.83148695],\n",
       "       [0.79396656, 0.20603344],\n",
       "       [0.74650047, 0.25349954],\n",
       "       [0.50005818, 0.49994182],\n",
       "       [0.6468026 , 0.3531974 ],\n",
       "       [0.81166141, 0.18833859]])"
      ]
     },
     "execution_count": 92,
     "metadata": {},
     "output_type": "execute_result"
    }
   ],
   "source": [
    "total_pred_probs"
   ]
  },
  {
   "attachments": {},
   "cell_type": "markdown",
   "metadata": {},
   "source": [
    "- KT vs LT : LT 승\n",
    "- OB vs KIA : OB 승\n",
    "- SSG vs HH : SSG 승\n",
    "- SS vs LG : LG 승\n",
    "- WO vs NC : WO 승"
   ]
  },
  {
   "attachments": {},
   "cell_type": "markdown",
   "metadata": {},
   "source": [
    "## 4/6 경기 예측"
   ]
  },
  {
   "cell_type": "code",
   "execution_count": 66,
   "metadata": {},
   "outputs": [
    {
     "data": {
      "text/html": [
       "<div>\n",
       "<style scoped>\n",
       "    .dataframe tbody tr th:only-of-type {\n",
       "        vertical-align: middle;\n",
       "    }\n",
       "\n",
       "    .dataframe tbody tr th {\n",
       "        vertical-align: top;\n",
       "    }\n",
       "\n",
       "    .dataframe thead th {\n",
       "        text-align: right;\n",
       "    }\n",
       "</style>\n",
       "<table border=\"1\" class=\"dataframe\">\n",
       "  <thead>\n",
       "    <tr style=\"text-align: right;\">\n",
       "      <th></th>\n",
       "      <th>T_ID</th>\n",
       "      <th>VS_T_ID</th>\n",
       "      <th>PA</th>\n",
       "      <th>AB</th>\n",
       "      <th>RUN</th>\n",
       "      <th>OBP</th>\n",
       "      <th>OOO</th>\n",
       "      <th>Unnamed: 7</th>\n",
       "    </tr>\n",
       "  </thead>\n",
       "  <tbody>\n",
       "    <tr>\n",
       "      <th>0</th>\n",
       "      <td>OB</td>\n",
       "      <td>NC</td>\n",
       "      <td>37.944444</td>\n",
       "      <td>33.722222</td>\n",
       "      <td>6.583333</td>\n",
       "      <td>0.321</td>\n",
       "      <td>0.249</td>\n",
       "      <td>NaN</td>\n",
       "    </tr>\n",
       "    <tr>\n",
       "      <th>1</th>\n",
       "      <td>NC</td>\n",
       "      <td>OB</td>\n",
       "      <td>39.388889</td>\n",
       "      <td>34.277778</td>\n",
       "      <td>4.944444</td>\n",
       "      <td>0.356</td>\n",
       "      <td>0.272</td>\n",
       "      <td>NaN</td>\n",
       "    </tr>\n",
       "    <tr>\n",
       "      <th>2</th>\n",
       "      <td>SS</td>\n",
       "      <td>HH</td>\n",
       "      <td>38.941176</td>\n",
       "      <td>33.588235</td>\n",
       "      <td>5.529412</td>\n",
       "      <td>0.335</td>\n",
       "      <td>0.254</td>\n",
       "      <td>NaN</td>\n",
       "    </tr>\n",
       "    <tr>\n",
       "      <th>3</th>\n",
       "      <td>HH</td>\n",
       "      <td>SS</td>\n",
       "      <td>37.882353</td>\n",
       "      <td>34.058824</td>\n",
       "      <td>3.470588</td>\n",
       "      <td>0.299</td>\n",
       "      <td>0.238</td>\n",
       "      <td>NaN</td>\n",
       "    </tr>\n",
       "    <tr>\n",
       "      <th>4</th>\n",
       "      <td>WO</td>\n",
       "      <td>LG</td>\n",
       "      <td>37.944444</td>\n",
       "      <td>34.055556</td>\n",
       "      <td>3.277778</td>\n",
       "      <td>0.290</td>\n",
       "      <td>0.220</td>\n",
       "      <td>NaN</td>\n",
       "    </tr>\n",
       "    <tr>\n",
       "      <th>5</th>\n",
       "      <td>LG</td>\n",
       "      <td>WO</td>\n",
       "      <td>38.888889</td>\n",
       "      <td>34.555556</td>\n",
       "      <td>4.777778</td>\n",
       "      <td>0.330</td>\n",
       "      <td>0.264</td>\n",
       "      <td>NaN</td>\n",
       "    </tr>\n",
       "  </tbody>\n",
       "</table>\n",
       "</div>"
      ],
      "text/plain": [
       "  T_ID VS_T_ID         PA         AB       RUN    OBP    OOO  Unnamed: 7\n",
       "0   OB      NC  37.944444  33.722222  6.583333  0.321  0.249         NaN\n",
       "1   NC      OB  39.388889  34.277778  4.944444  0.356  0.272         NaN\n",
       "2   SS      HH  38.941176  33.588235  5.529412  0.335  0.254         NaN\n",
       "3   HH      SS  37.882353  34.058824  3.470588  0.299  0.238         NaN\n",
       "4   WO      LG  37.944444  34.055556  3.277778  0.290  0.220         NaN\n",
       "5   LG      WO  38.888889  34.555556  4.777778  0.330  0.264         NaN"
      ]
     },
     "execution_count": 66,
     "metadata": {},
     "output_type": "execute_result"
    }
   ],
   "source": [
    "filename = 'C:/workspace/p-tag/baseball_2022_for_20230406_rev.csv'\n",
    "data = pd.read_csv(filename,encoding='cp949')\n",
    "data"
   ]
  },
  {
   "cell_type": "code",
   "execution_count": 67,
   "metadata": {},
   "outputs": [],
   "source": [
    "baseball_data = data.copy()"
   ]
  },
  {
   "cell_type": "code",
   "execution_count": 68,
   "metadata": {},
   "outputs": [],
   "source": [
    "team_list = ['HH', 'KIA', 'KT', 'LG', 'LT', 'NC', 'OB', 'SSG', 'SS', 'WO']\n",
    "number = len(team_list)\n",
    "\n",
    "for index in range(number):\n",
    "    baseball_data['T_ID'] = baseball_data['T_ID'].replace(team_list[index],index)\n",
    "    baseball_data['VS_T_ID'] = baseball_data['VS_T_ID'].replace(team_list[index],index)"
   ]
  },
  {
   "cell_type": "code",
   "execution_count": 69,
   "metadata": {},
   "outputs": [
    {
     "data": {
      "text/html": [
       "<div>\n",
       "<style scoped>\n",
       "    .dataframe tbody tr th:only-of-type {\n",
       "        vertical-align: middle;\n",
       "    }\n",
       "\n",
       "    .dataframe tbody tr th {\n",
       "        vertical-align: top;\n",
       "    }\n",
       "\n",
       "    .dataframe thead th {\n",
       "        text-align: right;\n",
       "    }\n",
       "</style>\n",
       "<table border=\"1\" class=\"dataframe\">\n",
       "  <thead>\n",
       "    <tr style=\"text-align: right;\">\n",
       "      <th></th>\n",
       "      <th>T_ID</th>\n",
       "      <th>VS_T_ID</th>\n",
       "      <th>PA</th>\n",
       "      <th>AB</th>\n",
       "      <th>RUN</th>\n",
       "      <th>OBP</th>\n",
       "      <th>OOO</th>\n",
       "      <th>Unnamed: 7</th>\n",
       "    </tr>\n",
       "  </thead>\n",
       "  <tbody>\n",
       "    <tr>\n",
       "      <th>0</th>\n",
       "      <td>6</td>\n",
       "      <td>5</td>\n",
       "      <td>37.944444</td>\n",
       "      <td>33.722222</td>\n",
       "      <td>6.583333</td>\n",
       "      <td>0.321</td>\n",
       "      <td>0.249</td>\n",
       "      <td>NaN</td>\n",
       "    </tr>\n",
       "    <tr>\n",
       "      <th>1</th>\n",
       "      <td>5</td>\n",
       "      <td>6</td>\n",
       "      <td>39.388889</td>\n",
       "      <td>34.277778</td>\n",
       "      <td>4.944444</td>\n",
       "      <td>0.356</td>\n",
       "      <td>0.272</td>\n",
       "      <td>NaN</td>\n",
       "    </tr>\n",
       "    <tr>\n",
       "      <th>2</th>\n",
       "      <td>8</td>\n",
       "      <td>0</td>\n",
       "      <td>38.941176</td>\n",
       "      <td>33.588235</td>\n",
       "      <td>5.529412</td>\n",
       "      <td>0.335</td>\n",
       "      <td>0.254</td>\n",
       "      <td>NaN</td>\n",
       "    </tr>\n",
       "    <tr>\n",
       "      <th>3</th>\n",
       "      <td>0</td>\n",
       "      <td>8</td>\n",
       "      <td>37.882353</td>\n",
       "      <td>34.058824</td>\n",
       "      <td>3.470588</td>\n",
       "      <td>0.299</td>\n",
       "      <td>0.238</td>\n",
       "      <td>NaN</td>\n",
       "    </tr>\n",
       "    <tr>\n",
       "      <th>4</th>\n",
       "      <td>9</td>\n",
       "      <td>3</td>\n",
       "      <td>37.944444</td>\n",
       "      <td>34.055556</td>\n",
       "      <td>3.277778</td>\n",
       "      <td>0.290</td>\n",
       "      <td>0.220</td>\n",
       "      <td>NaN</td>\n",
       "    </tr>\n",
       "    <tr>\n",
       "      <th>5</th>\n",
       "      <td>3</td>\n",
       "      <td>9</td>\n",
       "      <td>38.888889</td>\n",
       "      <td>34.555556</td>\n",
       "      <td>4.777778</td>\n",
       "      <td>0.330</td>\n",
       "      <td>0.264</td>\n",
       "      <td>NaN</td>\n",
       "    </tr>\n",
       "  </tbody>\n",
       "</table>\n",
       "</div>"
      ],
      "text/plain": [
       "   T_ID  VS_T_ID         PA         AB       RUN    OBP    OOO  Unnamed: 7\n",
       "0     6        5  37.944444  33.722222  6.583333  0.321  0.249         NaN\n",
       "1     5        6  39.388889  34.277778  4.944444  0.356  0.272         NaN\n",
       "2     8        0  38.941176  33.588235  5.529412  0.335  0.254         NaN\n",
       "3     0        8  37.882353  34.058824  3.470588  0.299  0.238         NaN\n",
       "4     9        3  37.944444  34.055556  3.277778  0.290  0.220         NaN\n",
       "5     3        9  38.888889  34.555556  4.777778  0.330  0.264         NaN"
      ]
     },
     "execution_count": 69,
     "metadata": {},
     "output_type": "execute_result"
    }
   ],
   "source": [
    "baseball_data"
   ]
  },
  {
   "cell_type": "code",
   "execution_count": 70,
   "metadata": {},
   "outputs": [],
   "source": [
    "test_x = baseball_data[['RUN', 'AB', 'PA', 'OOO', 'T_ID', 'VS_T_ID', 'OBP']]"
   ]
  },
  {
   "cell_type": "code",
   "execution_count": 71,
   "metadata": {},
   "outputs": [
    {
     "name": "stdout",
     "output_type": "stream",
     "text": [
      "1/1 [==============================] - 1s 704ms/step\n"
     ]
    }
   ],
   "source": [
    "# RandomForest pred probs 구하기\n",
    "pickled_RandomForest_model = pickle.load(open('C:/workspace/p-tag/model/random_forest.pkl', 'rb'))\n",
    "pred_probs_RandomForest = pickled_RandomForest_model.predict_proba(test_x)\n",
    "\n",
    "# XGBoost pred probs 구하기\n",
    "pickled_XGBoost_model = pickle.load(open('C:/workspace/p-tag/model/xgboost.pkl', 'rb'))\n",
    "dtest = xgb.DMatrix(data=test_x)\n",
    "percent = pickled_XGBoost_model.predict(dtest)\n",
    "pred_probs_xgboost = np.array([arr for arr in zip(1-percent,percent)])\n",
    "\n",
    "# GBM pred probs 구하기\n",
    "pickled_GBM_model = pickle.load(open('C:/workspace/p-tag/model/GBM.pkl', 'rb'))\n",
    "pred_probs_GBM = pickled_GBM_model.predict_proba(test_x)\n",
    "\n",
    "# LightGBM pred probs 구하기\n",
    "pickled_LightGBM_model = pickle.load(open('C:/workspace/p-tag/model/LightGBM.pkl', 'rb'))\n",
    "pred_probs_LightGBM = pickled_LightGBM_model.predict_proba(test_x)\n",
    "\n",
    "# DeepLearning pred probs 구하기\n",
    "pickled_DeepLearning_model = pickle.load(open('C:/workspace/p-tag/model/DeepLearning.pkl', 'rb'))\n",
    "pred_probs_DeepLearning = pickled_DeepLearning_model.predict(test_x)"
   ]
  },
  {
   "cell_type": "code",
   "execution_count": 72,
   "metadata": {},
   "outputs": [
    {
     "data": {
      "text/plain": [
       "[0, 0, 1, 0, 0, 0]"
      ]
     },
     "execution_count": 72,
     "metadata": {},
     "output_type": "execute_result"
    }
   ],
   "source": [
    "# 각 모델들의 pred probs를 합산하여 승부 예측\n",
    "total_pred_probs = (pred_probs_RandomForest + pred_probs_xgboost + pred_probs_GBM + pred_probs_LightGBM + pred_probs_DeepLearning)/5\n",
    "preds = [1 if total_pred_probs[index][0] < total_pred_probs[index][1] else 0 for index in range(len(total_pred_probs))]\n",
    "preds"
   ]
  },
  {
   "cell_type": "code",
   "execution_count": 73,
   "metadata": {},
   "outputs": [
    {
     "data": {
      "text/plain": [
       "array([[0.51225582, 0.48774418],\n",
       "       [0.65866678, 0.34133322],\n",
       "       [0.39885111, 0.6011489 ],\n",
       "       [0.87020795, 0.12979204],\n",
       "       [0.80865611, 0.1913439 ],\n",
       "       [0.71545524, 0.28454476]])"
      ]
     },
     "execution_count": 73,
     "metadata": {},
     "output_type": "execute_result"
    }
   ],
   "source": [
    "total_pred_probs"
   ]
  },
  {
   "attachments": {},
   "cell_type": "markdown",
   "metadata": {},
   "source": [
    "=> OB vs NC : NC 승         \n",
    "=> SS vs HH : HH 승          \n",
    "=> WO vs LG : WO 승             "
   ]
  },
  {
   "cell_type": "code",
   "execution_count": null,
   "metadata": {},
   "outputs": [],
   "source": []
  }
 ],
 "metadata": {
  "kernelspec": {
   "display_name": "base",
   "language": "python",
   "name": "python3"
  },
  "language_info": {
   "codemirror_mode": {
    "name": "ipython",
    "version": 3
   },
   "file_extension": ".py",
   "mimetype": "text/x-python",
   "name": "python",
   "nbconvert_exporter": "python",
   "pygments_lexer": "ipython3",
   "version": "3.9.13"
  },
  "orig_nbformat": 4
 },
 "nbformat": 4,
 "nbformat_minor": 2
}
